{
 "cells": [
  {
   "cell_type": "markdown",
   "id": "9aadc7fd",
   "metadata": {
    "papermill": {
     "duration": 0.01688,
     "end_time": "2023-08-30T17:01:22.309349",
     "exception": false,
     "start_time": "2023-08-30T17:01:22.292469",
     "status": "completed"
    },
    "tags": []
   },
   "source": [
    "**Work Problem**\n",
    "\n",
    "It is desired to develop a machine learning model that can predict whether people have diabetes when their characteristics are specified. \n",
    "\n",
    "Before developing the model, the necessary data analysis and feature engineering steps you are expected to realise.\n",
    "\n",
    "**Dataset Story**\n",
    "\n",
    "The dataset is part of a larger dataset held at the National Institutes of Diabetes-Digestive-Kidney Diseases in the USA. \n",
    "\n",
    "It is the data used for a diabetes study on Pima Indian women aged 21 years and older living in the city of Phoenix, the 5th largest city in the State of Arizona in the USA. \n",
    "\n",
    "The target variable is \"outcome\", where 1 indicates a positive diabetes test result and 0 indicates a negative test result.\n",
    "\n",
    "\n",
    "Pregnancies: Number of pregnancies\n",
    "\n",
    "Glucose: 2-hour plasma glucose concentration in oral glucose tolerance test\n",
    "\n",
    "Blood Pressure: Blood pressure (small blood pressure) (mm Hg)\n",
    "\n",
    "SkinThickness: Thickness of skin\n",
    "\n",
    "Insulin: 2-hour serum insulin (mu U/ml)\n",
    "\n",
    "DiabetesPedigreeFunction: Function (2-hour plasma glucose concentration in oral glucose tolerance test)\n",
    "\n",
    "BMI: Body mass index\n",
    "\n",
    "Age: Age (years)\n",
    "\n",
    "Outcome: Have the disease (1) or not (0)\n",
    "\n",
    "\n",
    "\n"
   ]
  },
  {
   "cell_type": "markdown",
   "id": "649b7125",
   "metadata": {
    "papermill": {
     "duration": 0.017123,
     "end_time": "2023-08-30T17:01:22.342718",
     "exception": false,
     "start_time": "2023-08-30T17:01:22.325595",
     "status": "completed"
    },
    "tags": []
   },
   "source": [
    "**Project Tasks**\n",
    "\n",
    "**TASK 1: EXPLORATORY DATA ANALYSIS**\n",
    "\n",
    "* Step 1: Examine the overall picture.\n",
    "\n",
    "* Step 2: Capture numerical and categorical variables.\n",
    "\n",
    "* Step 3: Analyse the numeric and categorical variables.\n",
    "\n",
    "* Step 4: Analyse the target variable (mean of the target variable according to categorical variables, mean of the target variable according to the target variable).  average of numeric variables)\n",
    "\n",
    "* Step 5: Analyse outlier observations.\n",
    "\n",
    "* Step 6: Perform missing observation analysis.\n",
    "\n",
    "* Step 7: Perform correlation analysis\n",
    "\n",
    "**TASK 2: FEATURE ENGINEERING**\n",
    "\n",
    "* Step 1: Take necessary actions for missing and outliers. There are no missing observations in the data set, but observation units containing 0 values in variables such as      Glucose, Insulin, etc. may represent missing values. For example, a person's glucose or insulin value cannot be 0. Considering this situation, you can assign the zero    values as NaN in the relevant values and then apply the operations to the missing values.\n",
    "\n",
    "* Step 2: Create new variables.\n",
    "\n",
    "* Step 3: Perform encoding operations.\n",
    "\n",
    "* Step 4: Perform standardisation for numeric variables.\n",
    "\n",
    "* Step 5: Create a model."
   ]
  },
  {
   "cell_type": "markdown",
   "id": "affc66d8",
   "metadata": {
    "papermill": {
     "duration": 0.014985,
     "end_time": "2023-08-30T17:01:22.373561",
     "exception": false,
     "start_time": "2023-08-30T17:01:22.358576",
     "status": "completed"
    },
    "tags": []
   },
   "source": [
    "**Required Library and Functions**"
   ]
  },
  {
   "cell_type": "code",
   "execution_count": 1,
   "id": "a92c3f48",
   "metadata": {
    "execution": {
     "iopub.execute_input": "2023-08-30T17:01:22.407330Z",
     "iopub.status.busy": "2023-08-30T17:01:22.406570Z",
     "iopub.status.idle": "2023-08-30T17:01:24.666791Z",
     "shell.execute_reply": "2023-08-30T17:01:24.665624Z"
    },
    "papermill": {
     "duration": 2.279428,
     "end_time": "2023-08-30T17:01:24.669380",
     "exception": false,
     "start_time": "2023-08-30T17:01:22.389952",
     "status": "completed"
    },
    "tags": []
   },
   "outputs": [
    {
     "name": "stderr",
     "output_type": "stream",
     "text": [
      "/opt/conda/lib/python3.10/site-packages/scipy/__init__.py:146: UserWarning: A NumPy version >=1.16.5 and <1.23.0 is required for this version of SciPy (detected version 1.23.5\n",
      "  warnings.warn(f\"A NumPy version >={np_minversion} and <{np_maxversion}\"\n"
     ]
    },
    {
     "data": {
      "text/html": [
       "<div>\n",
       "<style scoped>\n",
       "    .dataframe tbody tr th:only-of-type {\n",
       "        vertical-align: middle;\n",
       "    }\n",
       "\n",
       "    .dataframe tbody tr th {\n",
       "        vertical-align: top;\n",
       "    }\n",
       "\n",
       "    .dataframe thead th {\n",
       "        text-align: right;\n",
       "    }\n",
       "</style>\n",
       "<table border=\"1\" class=\"dataframe\">\n",
       "  <thead>\n",
       "    <tr style=\"text-align: right;\">\n",
       "      <th></th>\n",
       "      <th>Pregnancies</th>\n",
       "      <th>Glucose</th>\n",
       "      <th>BloodPressure</th>\n",
       "      <th>SkinThickness</th>\n",
       "      <th>Insulin</th>\n",
       "      <th>BMI</th>\n",
       "      <th>DiabetesPedigreeFunction</th>\n",
       "      <th>Age</th>\n",
       "      <th>Outcome</th>\n",
       "    </tr>\n",
       "  </thead>\n",
       "  <tbody>\n",
       "    <tr>\n",
       "      <th>0</th>\n",
       "      <td>6</td>\n",
       "      <td>148</td>\n",
       "      <td>72</td>\n",
       "      <td>35</td>\n",
       "      <td>0</td>\n",
       "      <td>33.600</td>\n",
       "      <td>0.627</td>\n",
       "      <td>50</td>\n",
       "      <td>1</td>\n",
       "    </tr>\n",
       "    <tr>\n",
       "      <th>1</th>\n",
       "      <td>1</td>\n",
       "      <td>85</td>\n",
       "      <td>66</td>\n",
       "      <td>29</td>\n",
       "      <td>0</td>\n",
       "      <td>26.600</td>\n",
       "      <td>0.351</td>\n",
       "      <td>31</td>\n",
       "      <td>0</td>\n",
       "    </tr>\n",
       "    <tr>\n",
       "      <th>2</th>\n",
       "      <td>8</td>\n",
       "      <td>183</td>\n",
       "      <td>64</td>\n",
       "      <td>0</td>\n",
       "      <td>0</td>\n",
       "      <td>23.300</td>\n",
       "      <td>0.672</td>\n",
       "      <td>32</td>\n",
       "      <td>1</td>\n",
       "    </tr>\n",
       "    <tr>\n",
       "      <th>3</th>\n",
       "      <td>1</td>\n",
       "      <td>89</td>\n",
       "      <td>66</td>\n",
       "      <td>23</td>\n",
       "      <td>94</td>\n",
       "      <td>28.100</td>\n",
       "      <td>0.167</td>\n",
       "      <td>21</td>\n",
       "      <td>0</td>\n",
       "    </tr>\n",
       "    <tr>\n",
       "      <th>4</th>\n",
       "      <td>0</td>\n",
       "      <td>137</td>\n",
       "      <td>40</td>\n",
       "      <td>35</td>\n",
       "      <td>168</td>\n",
       "      <td>43.100</td>\n",
       "      <td>2.288</td>\n",
       "      <td>33</td>\n",
       "      <td>1</td>\n",
       "    </tr>\n",
       "  </tbody>\n",
       "</table>\n",
       "</div>"
      ],
      "text/plain": [
       "   Pregnancies  Glucose  BloodPressure  SkinThickness  Insulin    BMI  \\\n",
       "0            6      148             72             35        0 33.600   \n",
       "1            1       85             66             29        0 26.600   \n",
       "2            8      183             64              0        0 23.300   \n",
       "3            1       89             66             23       94 28.100   \n",
       "4            0      137             40             35      168 43.100   \n",
       "\n",
       "   DiabetesPedigreeFunction  Age  Outcome  \n",
       "0                     0.627   50        1  \n",
       "1                     0.351   31        0  \n",
       "2                     0.672   32        1  \n",
       "3                     0.167   21        0  \n",
       "4                     2.288   33        1  "
      ]
     },
     "execution_count": 1,
     "metadata": {},
     "output_type": "execute_result"
    }
   ],
   "source": [
    "import numpy as np\n",
    "import pandas as pd\n",
    "import matplotlib.pyplot as plt\n",
    "import seaborn as sns\n",
    "from sklearn.metrics import accuracy_score, precision_score, recall_score, f1_score,roc_auc_score\n",
    "from sklearn.model_selection import GridSearchCV, cross_validate\n",
    "from sklearn.model_selection import train_test_split\n",
    "from sklearn.preprocessing import LabelEncoder\n",
    "from sklearn.ensemble import RandomForestClassifier\n",
    "from sklearn.preprocessing import StandardScaler\n",
    "import warnings\n",
    "warnings.simplefilter(action=\"ignore\")\n",
    "\n",
    "pd.set_option('display.max_columns', None)\n",
    "pd.set_option('display.width', None)\n",
    "pd.set_option('display.max_rows', 20)\n",
    "pd.set_option('display.float_format', lambda x: '%.3f' % x)\n",
    "\n",
    "\n",
    "df = pd.read_csv(\"/kaggle/input/docspot/datasets_228_482_diabetes.csv\")\n",
    "df.head()"
   ]
  },
  {
   "cell_type": "markdown",
   "id": "c00d3bf3",
   "metadata": {
    "papermill": {
     "duration": 0.015242,
     "end_time": "2023-08-30T17:01:24.700619",
     "exception": false,
     "start_time": "2023-08-30T17:01:24.685377",
     "status": "completed"
    },
    "tags": []
   },
   "source": [
    "**TASK 1: EXPLORATORY DATA ANALYSIS**\n",
    "\n",
    "**overall picture**"
   ]
  },
  {
   "cell_type": "code",
   "execution_count": 2,
   "id": "72c82169",
   "metadata": {
    "execution": {
     "iopub.execute_input": "2023-08-30T17:01:24.733813Z",
     "iopub.status.busy": "2023-08-30T17:01:24.733420Z",
     "iopub.status.idle": "2023-08-30T17:01:24.759726Z",
     "shell.execute_reply": "2023-08-30T17:01:24.757362Z"
    },
    "papermill": {
     "duration": 0.045784,
     "end_time": "2023-08-30T17:01:24.762103",
     "exception": false,
     "start_time": "2023-08-30T17:01:24.716319",
     "status": "completed"
    },
    "tags": []
   },
   "outputs": [
    {
     "name": "stdout",
     "output_type": "stream",
     "text": [
      "##################### Shape #####################\n",
      "(768, 9)\n",
      "##################### Types #####################\n",
      "Pregnancies                   int64\n",
      "Glucose                       int64\n",
      "BloodPressure                 int64\n",
      "SkinThickness                 int64\n",
      "Insulin                       int64\n",
      "BMI                         float64\n",
      "DiabetesPedigreeFunction    float64\n",
      "Age                           int64\n",
      "Outcome                       int64\n",
      "dtype: object\n",
      "##################### Head #####################\n",
      "   Pregnancies  Glucose  BloodPressure  SkinThickness  Insulin    BMI  \\\n",
      "0            6      148             72             35        0 33.600   \n",
      "1            1       85             66             29        0 26.600   \n",
      "2            8      183             64              0        0 23.300   \n",
      "3            1       89             66             23       94 28.100   \n",
      "4            0      137             40             35      168 43.100   \n",
      "\n",
      "   DiabetesPedigreeFunction  Age  Outcome  \n",
      "0                     0.627   50        1  \n",
      "1                     0.351   31        0  \n",
      "2                     0.672   32        1  \n",
      "3                     0.167   21        0  \n",
      "4                     2.288   33        1  \n",
      "##################### Tail #####################\n",
      "     Pregnancies  Glucose  BloodPressure  SkinThickness  Insulin    BMI  \\\n",
      "763           10      101             76             48      180 32.900   \n",
      "764            2      122             70             27        0 36.800   \n",
      "765            5      121             72             23      112 26.200   \n",
      "766            1      126             60              0        0 30.100   \n",
      "767            1       93             70             31        0 30.400   \n",
      "\n",
      "     DiabetesPedigreeFunction  Age  Outcome  \n",
      "763                     0.171   63        0  \n",
      "764                     0.340   27        0  \n",
      "765                     0.245   30        0  \n",
      "766                     0.349   47        1  \n",
      "767                     0.315   23        0  \n",
      "##################### NA #####################\n",
      "Pregnancies                 0\n",
      "Glucose                     0\n",
      "BloodPressure               0\n",
      "SkinThickness               0\n",
      "Insulin                     0\n",
      "BMI                         0\n",
      "DiabetesPedigreeFunction    0\n",
      "Age                         0\n",
      "Outcome                     0\n",
      "dtype: int64\n",
      "##################### Quantiles #####################\n",
      "                          0.000  0.050   0.500   0.950   0.990   1.000\n",
      "Pregnancies               0.000  0.000   3.000  10.000  13.000  17.000\n",
      "Glucose                   0.000 79.000 117.000 181.000 196.000 199.000\n",
      "BloodPressure             0.000 38.700  72.000  90.000 106.000 122.000\n",
      "SkinThickness             0.000  0.000  23.000  44.000  51.330  99.000\n",
      "Insulin                   0.000  0.000  30.500 293.000 519.900 846.000\n",
      "BMI                       0.000 21.800  32.000  44.395  50.759  67.100\n",
      "DiabetesPedigreeFunction  0.078  0.140   0.372   1.133   1.698   2.420\n",
      "Age                      21.000 21.000  29.000  58.000  67.000  81.000\n",
      "Outcome                   0.000  0.000   0.000   1.000   1.000   1.000\n"
     ]
    }
   ],
   "source": [
    "def check_df(dataframe, head=5):\n",
    "    print(\"##################### Shape #####################\")\n",
    "    print(dataframe.shape)\n",
    "    print(\"##################### Types #####################\")\n",
    "    print(dataframe.dtypes)\n",
    "    print(\"##################### Head #####################\")\n",
    "    print(dataframe.head(head))\n",
    "    print(\"##################### Tail #####################\")\n",
    "    print(dataframe.tail(head))\n",
    "    print(\"##################### NA #####################\")\n",
    "    print(dataframe.isnull().sum())\n",
    "    print(\"##################### Quantiles #####################\")\n",
    "    print(dataframe.quantile([0, 0.05, 0.50, 0.95, 0.99, 1]).T)\n",
    "\n",
    "check_df(df)"
   ]
  },
  {
   "cell_type": "code",
   "execution_count": 3,
   "id": "3f5ec13a",
   "metadata": {
    "execution": {
     "iopub.execute_input": "2023-08-30T17:01:24.795936Z",
     "iopub.status.busy": "2023-08-30T17:01:24.794903Z",
     "iopub.status.idle": "2023-08-30T17:01:24.809073Z",
     "shell.execute_reply": "2023-08-30T17:01:24.807918Z"
    },
    "papermill": {
     "duration": 0.033927,
     "end_time": "2023-08-30T17:01:24.811857",
     "exception": false,
     "start_time": "2023-08-30T17:01:24.777930",
     "status": "completed"
    },
    "tags": []
   },
   "outputs": [
    {
     "data": {
      "text/html": [
       "<div>\n",
       "<style scoped>\n",
       "    .dataframe tbody tr th:only-of-type {\n",
       "        vertical-align: middle;\n",
       "    }\n",
       "\n",
       "    .dataframe tbody tr th {\n",
       "        vertical-align: top;\n",
       "    }\n",
       "\n",
       "    .dataframe thead th {\n",
       "        text-align: right;\n",
       "    }\n",
       "</style>\n",
       "<table border=\"1\" class=\"dataframe\">\n",
       "  <thead>\n",
       "    <tr style=\"text-align: right;\">\n",
       "      <th></th>\n",
       "      <th>Pregnancies</th>\n",
       "      <th>Glucose</th>\n",
       "      <th>BloodPressure</th>\n",
       "      <th>SkinThickness</th>\n",
       "      <th>Insulin</th>\n",
       "      <th>BMI</th>\n",
       "      <th>DiabetesPedigreeFunction</th>\n",
       "      <th>Age</th>\n",
       "      <th>Outcome</th>\n",
       "    </tr>\n",
       "  </thead>\n",
       "  <tbody>\n",
       "    <tr>\n",
       "      <th>0</th>\n",
       "      <td>6</td>\n",
       "      <td>148</td>\n",
       "      <td>72</td>\n",
       "      <td>35</td>\n",
       "      <td>0</td>\n",
       "      <td>33.600</td>\n",
       "      <td>0.627</td>\n",
       "      <td>50</td>\n",
       "      <td>1</td>\n",
       "    </tr>\n",
       "    <tr>\n",
       "      <th>1</th>\n",
       "      <td>1</td>\n",
       "      <td>85</td>\n",
       "      <td>66</td>\n",
       "      <td>29</td>\n",
       "      <td>0</td>\n",
       "      <td>26.600</td>\n",
       "      <td>0.351</td>\n",
       "      <td>31</td>\n",
       "      <td>0</td>\n",
       "    </tr>\n",
       "    <tr>\n",
       "      <th>2</th>\n",
       "      <td>8</td>\n",
       "      <td>183</td>\n",
       "      <td>64</td>\n",
       "      <td>0</td>\n",
       "      <td>0</td>\n",
       "      <td>23.300</td>\n",
       "      <td>0.672</td>\n",
       "      <td>32</td>\n",
       "      <td>1</td>\n",
       "    </tr>\n",
       "    <tr>\n",
       "      <th>3</th>\n",
       "      <td>1</td>\n",
       "      <td>89</td>\n",
       "      <td>66</td>\n",
       "      <td>23</td>\n",
       "      <td>94</td>\n",
       "      <td>28.100</td>\n",
       "      <td>0.167</td>\n",
       "      <td>21</td>\n",
       "      <td>0</td>\n",
       "    </tr>\n",
       "    <tr>\n",
       "      <th>4</th>\n",
       "      <td>0</td>\n",
       "      <td>137</td>\n",
       "      <td>40</td>\n",
       "      <td>35</td>\n",
       "      <td>168</td>\n",
       "      <td>43.100</td>\n",
       "      <td>2.288</td>\n",
       "      <td>33</td>\n",
       "      <td>1</td>\n",
       "    </tr>\n",
       "  </tbody>\n",
       "</table>\n",
       "</div>"
      ],
      "text/plain": [
       "   Pregnancies  Glucose  BloodPressure  SkinThickness  Insulin    BMI  \\\n",
       "0            6      148             72             35        0 33.600   \n",
       "1            1       85             66             29        0 26.600   \n",
       "2            8      183             64              0        0 23.300   \n",
       "3            1       89             66             23       94 28.100   \n",
       "4            0      137             40             35      168 43.100   \n",
       "\n",
       "   DiabetesPedigreeFunction  Age  Outcome  \n",
       "0                     0.627   50        1  \n",
       "1                     0.351   31        0  \n",
       "2                     0.672   32        1  \n",
       "3                     0.167   21        0  \n",
       "4                     2.288   33        1  "
      ]
     },
     "execution_count": 3,
     "metadata": {},
     "output_type": "execute_result"
    }
   ],
   "source": [
    "df.head()"
   ]
  },
  {
   "cell_type": "code",
   "execution_count": 4,
   "id": "95bae178",
   "metadata": {
    "execution": {
     "iopub.execute_input": "2023-08-30T17:01:24.847325Z",
     "iopub.status.busy": "2023-08-30T17:01:24.846467Z",
     "iopub.status.idle": "2023-08-30T17:01:24.868399Z",
     "shell.execute_reply": "2023-08-30T17:01:24.866397Z"
    },
    "papermill": {
     "duration": 0.042974,
     "end_time": "2023-08-30T17:01:24.870892",
     "exception": false,
     "start_time": "2023-08-30T17:01:24.827918",
     "status": "completed"
    },
    "tags": []
   },
   "outputs": [
    {
     "name": "stdout",
     "output_type": "stream",
     "text": [
      "<class 'pandas.core.frame.DataFrame'>\n",
      "RangeIndex: 768 entries, 0 to 767\n",
      "Data columns (total 9 columns):\n",
      " #   Column                    Non-Null Count  Dtype  \n",
      "---  ------                    --------------  -----  \n",
      " 0   Pregnancies               768 non-null    int64  \n",
      " 1   Glucose                   768 non-null    int64  \n",
      " 2   BloodPressure             768 non-null    int64  \n",
      " 3   SkinThickness             768 non-null    int64  \n",
      " 4   Insulin                   768 non-null    int64  \n",
      " 5   BMI                       768 non-null    float64\n",
      " 6   DiabetesPedigreeFunction  768 non-null    float64\n",
      " 7   Age                       768 non-null    int64  \n",
      " 8   Outcome                   768 non-null    int64  \n",
      "dtypes: float64(2), int64(7)\n",
      "memory usage: 54.1 KB\n"
     ]
    }
   ],
   "source": [
    "df.info()"
   ]
  },
  {
   "cell_type": "markdown",
   "id": "97b8a6c7",
   "metadata": {
    "papermill": {
     "duration": 0.015578,
     "end_time": "2023-08-30T17:01:24.902503",
     "exception": false,
     "start_time": "2023-08-30T17:01:24.886925",
     "status": "completed"
    },
    "tags": []
   },
   "source": [
    "**CAPTURING NUMERIC AND CATEGORICAL VARIABLES**"
   ]
  },
  {
   "cell_type": "code",
   "execution_count": 5,
   "id": "fc92765b",
   "metadata": {
    "execution": {
     "iopub.execute_input": "2023-08-30T17:01:24.937403Z",
     "iopub.status.busy": "2023-08-30T17:01:24.936985Z",
     "iopub.status.idle": "2023-08-30T17:01:24.953181Z",
     "shell.execute_reply": "2023-08-30T17:01:24.951867Z"
    },
    "papermill": {
     "duration": 0.035807,
     "end_time": "2023-08-30T17:01:24.955310",
     "exception": false,
     "start_time": "2023-08-30T17:01:24.919503",
     "status": "completed"
    },
    "tags": []
   },
   "outputs": [
    {
     "name": "stdout",
     "output_type": "stream",
     "text": [
      "Observations: 768\n",
      "Variables: 9\n",
      "cat_cols: 1\n",
      "num_cols: 8\n",
      "cat_but_car: 0\n",
      "num_but_cat: 1\n"
     ]
    }
   ],
   "source": [
    "def grab_col_names(dataframe, cat_th=10, car_th=20):\n",
    "    \"\"\"\n",
    "\n",
    "    Returns the names of categorical, numeric and categorical but cardinal variables in the data set.\n",
    "    Note: Categorical variables include categorical variables with numeric appearance.\n",
    "\n",
    "    Parameters\n",
    "    ------\n",
    "        dataframe: dataframe\n",
    "                Variable names of the dataframe to be taken\n",
    "        cat_th: int, optional\n",
    "                class threshold for numeric but categorical variables\n",
    "        car_th: int, optional\n",
    "                class threshold for categorical but cardinal variables\n",
    "\n",
    "    Returns\n",
    "    ------\n",
    "        cat_cols: list\n",
    "                Categorical variable list\n",
    "        num_cols: list\n",
    "                Numeric variable list\n",
    "        cat_but_car: list\n",
    "                List of cardinal variables with categorical appearance\n",
    "\n",
    "    Examples\n",
    "    ------\n",
    "        import seaborn as sns\n",
    "        df = sns.load_dataset(\"iris\")\n",
    "        print(grab_col_names(df))\n",
    "\n",
    "\n",
    "    Notes\n",
    "    ------\n",
    "        cat_cols + num_cols + cat_but_car = total number of variables\n",
    "        num_but_cat is inside cat_cols.\n",
    "\n",
    "    \"\"\"\n",
    "    # cat_cols, cat_but_car\n",
    "    cat_cols = [col for col in dataframe.columns if dataframe[col].dtypes == \"O\"]\n",
    "    num_but_cat = [col for col in dataframe.columns if dataframe[col].nunique() < cat_th and dataframe[col].dtypes != \"O\"]\n",
    "    cat_but_car = [col for col in dataframe.columns if dataframe[col].nunique() > car_th and dataframe[col].dtypes == \"O\"]\n",
    "    cat_cols = cat_cols + num_but_cat\n",
    "    cat_cols = [col for col in cat_cols if col not in cat_but_car]\n",
    "\n",
    "    # num_cols\n",
    "    num_cols = [col for col in dataframe.columns if dataframe[col].dtypes != \"O\"]\n",
    "    num_cols = [col for col in num_cols if col not in num_but_cat]\n",
    "\n",
    "    print(f\"Observations: {dataframe.shape[0]}\")\n",
    "    print(f\"Variables: {dataframe.shape[1]}\")\n",
    "    print(f'cat_cols: {len(cat_cols)}')\n",
    "    print(f'num_cols: {len(num_cols)}')\n",
    "    print(f'cat_but_car: {len(cat_but_car)}')\n",
    "    print(f'num_but_cat: {len(num_but_cat)}')\n",
    "\n",
    "    return cat_cols, num_cols, cat_but_car\n",
    "\n",
    "\n",
    "cat_cols, num_cols, cat_but_car = grab_col_names(df)\n"
   ]
  },
  {
   "cell_type": "code",
   "execution_count": 6,
   "id": "b8644477",
   "metadata": {
    "execution": {
     "iopub.execute_input": "2023-08-30T17:01:24.997565Z",
     "iopub.status.busy": "2023-08-30T17:01:24.996704Z",
     "iopub.status.idle": "2023-08-30T17:01:25.004188Z",
     "shell.execute_reply": "2023-08-30T17:01:25.002958Z"
    },
    "papermill": {
     "duration": 0.033923,
     "end_time": "2023-08-30T17:01:25.006918",
     "exception": false,
     "start_time": "2023-08-30T17:01:24.972995",
     "status": "completed"
    },
    "tags": []
   },
   "outputs": [
    {
     "data": {
      "text/plain": [
       "['Outcome']"
      ]
     },
     "execution_count": 6,
     "metadata": {},
     "output_type": "execute_result"
    }
   ],
   "source": [
    "cat_cols"
   ]
  },
  {
   "cell_type": "code",
   "execution_count": 7,
   "id": "4f4d8ad6",
   "metadata": {
    "execution": {
     "iopub.execute_input": "2023-08-30T17:01:25.056544Z",
     "iopub.status.busy": "2023-08-30T17:01:25.055873Z",
     "iopub.status.idle": "2023-08-30T17:01:25.064494Z",
     "shell.execute_reply": "2023-08-30T17:01:25.063443Z"
    },
    "papermill": {
     "duration": 0.038031,
     "end_time": "2023-08-30T17:01:25.067390",
     "exception": false,
     "start_time": "2023-08-30T17:01:25.029359",
     "status": "completed"
    },
    "tags": []
   },
   "outputs": [
    {
     "data": {
      "text/plain": [
       "['Pregnancies',\n",
       " 'Glucose',\n",
       " 'BloodPressure',\n",
       " 'SkinThickness',\n",
       " 'Insulin',\n",
       " 'BMI',\n",
       " 'DiabetesPedigreeFunction',\n",
       " 'Age']"
      ]
     },
     "execution_count": 7,
     "metadata": {},
     "output_type": "execute_result"
    }
   ],
   "source": [
    "num_cols"
   ]
  },
  {
   "cell_type": "code",
   "execution_count": 8,
   "id": "760e70c9",
   "metadata": {
    "execution": {
     "iopub.execute_input": "2023-08-30T17:01:25.115409Z",
     "iopub.status.busy": "2023-08-30T17:01:25.115019Z",
     "iopub.status.idle": "2023-08-30T17:01:25.121931Z",
     "shell.execute_reply": "2023-08-30T17:01:25.120849Z"
    },
    "papermill": {
     "duration": 0.032078,
     "end_time": "2023-08-30T17:01:25.124180",
     "exception": false,
     "start_time": "2023-08-30T17:01:25.092102",
     "status": "completed"
    },
    "tags": []
   },
   "outputs": [
    {
     "data": {
      "text/plain": [
       "[]"
      ]
     },
     "execution_count": 8,
     "metadata": {},
     "output_type": "execute_result"
    }
   ],
   "source": [
    "cat_but_car"
   ]
  },
  {
   "cell_type": "markdown",
   "id": "ae2f8f8f",
   "metadata": {
    "papermill": {
     "duration": 0.018029,
     "end_time": "2023-08-30T17:01:25.159414",
     "exception": false,
     "start_time": "2023-08-30T17:01:25.141385",
     "status": "completed"
    },
    "tags": []
   },
   "source": [
    "**ANALYSIS OF CATEGORICAL VARIABLES**"
   ]
  },
  {
   "cell_type": "code",
   "execution_count": 9,
   "id": "e6b48400",
   "metadata": {
    "execution": {
     "iopub.execute_input": "2023-08-30T17:01:25.204077Z",
     "iopub.status.busy": "2023-08-30T17:01:25.203228Z",
     "iopub.status.idle": "2023-08-30T17:01:25.217919Z",
     "shell.execute_reply": "2023-08-30T17:01:25.216270Z"
    },
    "papermill": {
     "duration": 0.038954,
     "end_time": "2023-08-30T17:01:25.220685",
     "exception": false,
     "start_time": "2023-08-30T17:01:25.181731",
     "status": "completed"
    },
    "tags": []
   },
   "outputs": [
    {
     "name": "stdout",
     "output_type": "stream",
     "text": [
      "   Outcome  Ratio\n",
      "0      500 65.104\n",
      "1      268 34.896\n",
      "##########################################\n"
     ]
    }
   ],
   "source": [
    "def cat_summary(dataframe, col_name, plot=False):\n",
    "    print(pd.DataFrame({col_name: dataframe[col_name].value_counts(),\n",
    "                        \"Ratio\": 100 * dataframe[col_name].value_counts() / len(dataframe)}))\n",
    "    print(\"##########################################\")\n",
    "    if plot:\n",
    "        sns.countplot(x=dataframe[col_name], data=dataframe)\n",
    "        plt.show()\n",
    "\n",
    "cat_summary(df, \"Outcome\")"
   ]
  },
  {
   "cell_type": "markdown",
   "id": "23ef9c49",
   "metadata": {
    "papermill": {
     "duration": 0.016393,
     "end_time": "2023-08-30T17:01:25.253779",
     "exception": false,
     "start_time": "2023-08-30T17:01:25.237386",
     "status": "completed"
    },
    "tags": []
   },
   "source": [
    "**ANALYSIS OF NUMERICAL VARIABLES**"
   ]
  },
  {
   "cell_type": "code",
   "execution_count": 10,
   "id": "fc67bde2",
   "metadata": {
    "execution": {
     "iopub.execute_input": "2023-08-30T17:01:25.289232Z",
     "iopub.status.busy": "2023-08-30T17:01:25.288684Z",
     "iopub.status.idle": "2023-08-30T17:01:27.784770Z",
     "shell.execute_reply": "2023-08-30T17:01:27.783619Z"
    },
    "papermill": {
     "duration": 2.516884,
     "end_time": "2023-08-30T17:01:27.787204",
     "exception": false,
     "start_time": "2023-08-30T17:01:25.270320",
     "status": "completed"
    },
    "tags": []
   },
   "outputs": [
    {
     "name": "stdout",
     "output_type": "stream",
     "text": [
      "count   768.000\n",
      "mean      3.845\n",
      "std       3.370\n",
      "min       0.000\n",
      "5%        0.000\n",
      "10%       0.000\n",
      "20%       1.000\n",
      "30%       1.000\n",
      "40%       2.000\n",
      "50%       3.000\n",
      "60%       4.000\n",
      "70%       5.000\n",
      "80%       7.000\n",
      "90%       9.000\n",
      "95%      10.000\n",
      "99%      13.000\n",
      "max      17.000\n",
      "Name: Pregnancies, dtype: float64\n"
     ]
    },
    {
     "data": {
      "image/png": "[encoded data removed]",
      "text/plain": [
       "<Figure size 640x480 with 1 Axes>"
      ]
     },
     "metadata": {},
     "output_type": "display_data"
    },
    {
     "name": "stdout",
     "output_type": "stream",
     "text": [
      "count   768.000\n",
      "mean    120.895\n",
      "std      31.973\n",
      "min       0.000\n",
      "5%       79.000\n",
      "10%      85.000\n",
      "20%      95.000\n",
      "30%     102.000\n",
      "40%     109.000\n",
      "50%     117.000\n",
      "60%     125.000\n",
      "70%     134.000\n",
      "80%     147.000\n",
      "90%     167.000\n",
      "95%     181.000\n",
      "99%     196.000\n",
      "max     199.000\n",
      "Name: Glucose, dtype: float64\n"
     ]
    },
    {
     "data": {
      "image/png": "[encoded data removed]",
      "text/plain": [
       "<Figure size 640x480 with 1 Axes>"
      ]
     },
     "metadata": {},
     "output_type": "display_data"
    },
    {
     "name": "stdout",
     "output_type": "stream",
     "text": [
      "count   768.000\n",
      "mean     69.105\n",
      "std      19.356\n",
      "min       0.000\n",
      "5%       38.700\n",
      "10%      54.000\n",
      "20%      60.000\n",
      "30%      64.000\n",
      "40%      68.000\n",
      "50%      72.000\n",
      "60%      74.000\n",
      "70%      78.000\n",
      "80%      82.000\n",
      "90%      88.000\n",
      "95%      90.000\n",
      "99%     106.000\n",
      "max     122.000\n",
      "Name: BloodPressure, dtype: float64\n"
     ]
    },
    {
     "data": {
      "image/png": "[encoded data removed]",
      "text/plain": [
       "<Figure size 640x480 with 1 Axes>"
      ]
     },
     "metadata": {},
     "output_type": "display_data"
    },
    {
     "name": "stdout",
     "output_type": "stream",
     "text": [
      "count   768.000\n",
      "mean     20.536\n",
      "std      15.952\n",
      "min       0.000\n",
      "5%        0.000\n",
      "10%       0.000\n",
      "20%       0.000\n",
      "30%       8.200\n",
      "40%      18.000\n",
      "50%      23.000\n",
      "60%      27.000\n",
      "70%      31.000\n",
      "80%      35.000\n",
      "90%      40.000\n",
      "95%      44.000\n",
      "99%      51.330\n",
      "max      99.000\n",
      "Name: SkinThickness, dtype: float64\n"
     ]
    },
    {
     "data": {
      "image/png": "[encoded data removed]",
      "text/plain": [
       "<Figure size 640x480 with 1 Axes>"
      ]
     },
     "metadata": {},
     "output_type": "display_data"
    },
    {
     "name": "stdout",
     "output_type": "stream",
     "text": [
      "count   768.000\n",
      "mean     79.799\n",
      "std     115.244\n",
      "min       0.000\n",
      "5%        0.000\n",
      "10%       0.000\n",
      "20%       0.000\n",
      "30%       0.000\n",
      "40%       0.000\n",
      "50%      30.500\n",
      "60%      72.200\n",
      "70%     106.000\n",
      "80%     150.000\n",
      "90%     210.000\n",
      "95%     293.000\n",
      "99%     519.900\n",
      "max     846.000\n",
      "Name: Insulin, dtype: float64\n"
     ]
    },
    {
     "data": {
      "image/png": "[encoded data removed]",
      "text/plain": [
       "<Figure size 640x480 with 1 Axes>"
      ]
     },
     "metadata": {},
     "output_type": "display_data"
    },
    {
     "name": "stdout",
     "output_type": "stream",
     "text": [
      "count   768.000\n",
      "mean     31.993\n",
      "std       7.884\n",
      "min       0.000\n",
      "5%       21.800\n",
      "10%      23.600\n",
      "20%      25.900\n",
      "30%      28.200\n",
      "40%      30.100\n",
      "50%      32.000\n",
      "60%      33.700\n",
      "70%      35.490\n",
      "80%      37.800\n",
      "90%      41.500\n",
      "95%      44.395\n",
      "99%      50.759\n",
      "max      67.100\n",
      "Name: BMI, dtype: float64\n"
     ]
    },
    {
     "data": {
      "image/png": "[encoded data removed]",
      "text/plain": [
       "<Figure size 640x480 with 1 Axes>"
      ]
     },
     "metadata": {},
     "output_type": "display_data"
    },
    {
     "name": "stdout",
     "output_type": "stream",
     "text": [
      "count   768.000\n",
      "mean      0.472\n",
      "std       0.331\n",
      "min       0.078\n",
      "5%        0.140\n",
      "10%       0.165\n",
      "20%       0.219\n",
      "30%       0.259\n",
      "40%       0.303\n",
      "50%       0.372\n",
      "60%       0.454\n",
      "70%       0.564\n",
      "80%       0.687\n",
      "90%       0.879\n",
      "95%       1.133\n",
      "99%       1.698\n",
      "max       2.420\n",
      "Name: DiabetesPedigreeFunction, dtype: float64\n"
     ]
    },
    {
     "data": {
      "image/png": "[encoded data removed]",
      "text/plain": [
       "<Figure size 640x480 with 1 Axes>"
      ]
     },
     "metadata": {},
     "output_type": "display_data"
    },
    {
     "name": "stdout",
     "output_type": "stream",
     "text": [
      "count   768.000\n",
      "mean     33.241\n",
      "std      11.760\n",
      "min      21.000\n",
      "5%       21.000\n",
      "10%      22.000\n",
      "20%      23.000\n",
      "30%      25.000\n",
      "40%      27.000\n",
      "50%      29.000\n",
      "60%      33.000\n",
      "70%      38.000\n",
      "80%      42.600\n",
      "90%      51.000\n",
      "95%      58.000\n",
      "99%      67.000\n",
      "max      81.000\n",
      "Name: Age, dtype: float64\n"
     ]
    },
    {
     "data": {
      "image/png": "[encoded data removed]",
      "text/plain": [
       "<Figure size 640x480 with 1 Axes>"
      ]
     },
     "metadata": {},
     "output_type": "display_data"
    }
   ],
   "source": [
    "def num_summary(dataframe, numerical_col, plot=False):\n",
    "    quantiles = [0.05, 0.10, 0.20, 0.30, 0.40, 0.50, 0.60, 0.70, 0.80, 0.90, 0.95, 0.99]\n",
    "    print(dataframe[numerical_col].describe(quantiles).T)\n",
    "\n",
    "    if plot:\n",
    "        dataframe[numerical_col].hist(bins=20)\n",
    "        plt.xlabel(numerical_col)\n",
    "        plt.title(numerical_col)\n",
    "        plt.show()\n",
    "\n",
    "for col in num_cols:\n",
    "    num_summary(df, col, plot=True)"
   ]
  },
  {
   "cell_type": "markdown",
   "id": "2721b5c4",
   "metadata": {
    "papermill": {
     "duration": 0.020582,
     "end_time": "2023-08-30T17:01:27.827842",
     "exception": false,
     "start_time": "2023-08-30T17:01:27.807260",
     "status": "completed"
    },
    "tags": []
   },
   "source": [
    "**ANALYSIS OF NUMERICAL VARIABLES BY TARGET**"
   ]
  },
  {
   "cell_type": "code",
   "execution_count": 11,
   "id": "22915468",
   "metadata": {
    "execution": {
     "iopub.execute_input": "2023-08-30T17:01:27.869361Z",
     "iopub.status.busy": "2023-08-30T17:01:27.868776Z",
     "iopub.status.idle": "2023-08-30T17:01:27.898616Z",
     "shell.execute_reply": "2023-08-30T17:01:27.897220Z"
    },
    "papermill": {
     "duration": 0.053447,
     "end_time": "2023-08-30T17:01:27.900988",
     "exception": false,
     "start_time": "2023-08-30T17:01:27.847541",
     "status": "completed"
    },
    "tags": []
   },
   "outputs": [
    {
     "name": "stdout",
     "output_type": "stream",
     "text": [
      "         Pregnancies\n",
      "Outcome             \n",
      "0              3.298\n",
      "1              4.866\n",
      "\n",
      "\n",
      "         Glucose\n",
      "Outcome         \n",
      "0        109.980\n",
      "1        141.257\n",
      "\n",
      "\n",
      "         BloodPressure\n",
      "Outcome               \n",
      "0               68.184\n",
      "1               70.825\n",
      "\n",
      "\n",
      "         SkinThickness\n",
      "Outcome               \n",
      "0               19.664\n",
      "1               22.164\n",
      "\n",
      "\n",
      "         Insulin\n",
      "Outcome         \n",
      "0         68.792\n",
      "1        100.336\n",
      "\n",
      "\n",
      "           BMI\n",
      "Outcome       \n",
      "0       30.304\n",
      "1       35.143\n",
      "\n",
      "\n",
      "         DiabetesPedigreeFunction\n",
      "Outcome                          \n",
      "0                           0.430\n",
      "1                           0.550\n",
      "\n",
      "\n",
      "           Age\n",
      "Outcome       \n",
      "0       31.190\n",
      "1       37.067\n",
      "\n",
      "\n"
     ]
    }
   ],
   "source": [
    "def target_summary_with_num(dataframe, target, numerical_col):\n",
    "    print(dataframe.groupby(target).agg({numerical_col: \"mean\"}), end=\"\\n\\n\\n\")\n",
    "\n",
    "for col in num_cols:\n",
    "    target_summary_with_num(df, \"Outcome\", col)"
   ]
  },
  {
   "cell_type": "markdown",
   "id": "4409a81d",
   "metadata": {
    "papermill": {
     "duration": 0.019472,
     "end_time": "2023-08-30T17:01:27.940392",
     "exception": false,
     "start_time": "2023-08-30T17:01:27.920920",
     "status": "completed"
    },
    "tags": []
   },
   "source": [
    "**CORRELATION**\n",
    "\n",
    "Correlation indicates the direction and strength of the linear relationship between two random variables in probability theory and statistics."
   ]
  },
  {
   "cell_type": "code",
   "execution_count": 12,
   "id": "97219c24",
   "metadata": {
    "execution": {
     "iopub.execute_input": "2023-08-30T17:01:27.982821Z",
     "iopub.status.busy": "2023-08-30T17:01:27.982150Z",
     "iopub.status.idle": "2023-08-30T17:01:27.999608Z",
     "shell.execute_reply": "2023-08-30T17:01:27.998352Z"
    },
    "papermill": {
     "duration": 0.040924,
     "end_time": "2023-08-30T17:01:28.001888",
     "exception": false,
     "start_time": "2023-08-30T17:01:27.960964",
     "status": "completed"
    },
    "tags": []
   },
   "outputs": [
    {
     "data": {
      "text/html": [
       "<div>\n",
       "<style scoped>\n",
       "    .dataframe tbody tr th:only-of-type {\n",
       "        vertical-align: middle;\n",
       "    }\n",
       "\n",
       "    .dataframe tbody tr th {\n",
       "        vertical-align: top;\n",
       "    }\n",
       "\n",
       "    .dataframe thead th {\n",
       "        text-align: right;\n",
       "    }\n",
       "</style>\n",
       "<table border=\"1\" class=\"dataframe\">\n",
       "  <thead>\n",
       "    <tr style=\"text-align: right;\">\n",
       "      <th></th>\n",
       "      <th>Pregnancies</th>\n",
       "      <th>Glucose</th>\n",
       "      <th>BloodPressure</th>\n",
       "      <th>SkinThickness</th>\n",
       "      <th>Insulin</th>\n",
       "      <th>BMI</th>\n",
       "      <th>DiabetesPedigreeFunction</th>\n",
       "      <th>Age</th>\n",
       "      <th>Outcome</th>\n",
       "    </tr>\n",
       "  </thead>\n",
       "  <tbody>\n",
       "    <tr>\n",
       "      <th>Pregnancies</th>\n",
       "      <td>1.000</td>\n",
       "      <td>0.129</td>\n",
       "      <td>0.141</td>\n",
       "      <td>-0.082</td>\n",
       "      <td>-0.074</td>\n",
       "      <td>0.018</td>\n",
       "      <td>-0.034</td>\n",
       "      <td>0.544</td>\n",
       "      <td>0.222</td>\n",
       "    </tr>\n",
       "    <tr>\n",
       "      <th>Glucose</th>\n",
       "      <td>0.129</td>\n",
       "      <td>1.000</td>\n",
       "      <td>0.153</td>\n",
       "      <td>0.057</td>\n",
       "      <td>0.331</td>\n",
       "      <td>0.221</td>\n",
       "      <td>0.137</td>\n",
       "      <td>0.264</td>\n",
       "      <td>0.467</td>\n",
       "    </tr>\n",
       "    <tr>\n",
       "      <th>BloodPressure</th>\n",
       "      <td>0.141</td>\n",
       "      <td>0.153</td>\n",
       "      <td>1.000</td>\n",
       "      <td>0.207</td>\n",
       "      <td>0.089</td>\n",
       "      <td>0.282</td>\n",
       "      <td>0.041</td>\n",
       "      <td>0.240</td>\n",
       "      <td>0.065</td>\n",
       "    </tr>\n",
       "    <tr>\n",
       "      <th>SkinThickness</th>\n",
       "      <td>-0.082</td>\n",
       "      <td>0.057</td>\n",
       "      <td>0.207</td>\n",
       "      <td>1.000</td>\n",
       "      <td>0.437</td>\n",
       "      <td>0.393</td>\n",
       "      <td>0.184</td>\n",
       "      <td>-0.114</td>\n",
       "      <td>0.075</td>\n",
       "    </tr>\n",
       "    <tr>\n",
       "      <th>Insulin</th>\n",
       "      <td>-0.074</td>\n",
       "      <td>0.331</td>\n",
       "      <td>0.089</td>\n",
       "      <td>0.437</td>\n",
       "      <td>1.000</td>\n",
       "      <td>0.198</td>\n",
       "      <td>0.185</td>\n",
       "      <td>-0.042</td>\n",
       "      <td>0.131</td>\n",
       "    </tr>\n",
       "    <tr>\n",
       "      <th>BMI</th>\n",
       "      <td>0.018</td>\n",
       "      <td>0.221</td>\n",
       "      <td>0.282</td>\n",
       "      <td>0.393</td>\n",
       "      <td>0.198</td>\n",
       "      <td>1.000</td>\n",
       "      <td>0.141</td>\n",
       "      <td>0.036</td>\n",
       "      <td>0.293</td>\n",
       "    </tr>\n",
       "    <tr>\n",
       "      <th>DiabetesPedigreeFunction</th>\n",
       "      <td>-0.034</td>\n",
       "      <td>0.137</td>\n",
       "      <td>0.041</td>\n",
       "      <td>0.184</td>\n",
       "      <td>0.185</td>\n",
       "      <td>0.141</td>\n",
       "      <td>1.000</td>\n",
       "      <td>0.034</td>\n",
       "      <td>0.174</td>\n",
       "    </tr>\n",
       "    <tr>\n",
       "      <th>Age</th>\n",
       "      <td>0.544</td>\n",
       "      <td>0.264</td>\n",
       "      <td>0.240</td>\n",
       "      <td>-0.114</td>\n",
       "      <td>-0.042</td>\n",
       "      <td>0.036</td>\n",
       "      <td>0.034</td>\n",
       "      <td>1.000</td>\n",
       "      <td>0.238</td>\n",
       "    </tr>\n",
       "    <tr>\n",
       "      <th>Outcome</th>\n",
       "      <td>0.222</td>\n",
       "      <td>0.467</td>\n",
       "      <td>0.065</td>\n",
       "      <td>0.075</td>\n",
       "      <td>0.131</td>\n",
       "      <td>0.293</td>\n",
       "      <td>0.174</td>\n",
       "      <td>0.238</td>\n",
       "      <td>1.000</td>\n",
       "    </tr>\n",
       "  </tbody>\n",
       "</table>\n",
       "</div>"
      ],
      "text/plain": [
       "                          Pregnancies  Glucose  BloodPressure  SkinThickness  \\\n",
       "Pregnancies                     1.000    0.129          0.141         -0.082   \n",
       "Glucose                         0.129    1.000          0.153          0.057   \n",
       "BloodPressure                   0.141    0.153          1.000          0.207   \n",
       "SkinThickness                  -0.082    0.057          0.207          1.000   \n",
       "Insulin                        -0.074    0.331          0.089          0.437   \n",
       "BMI                             0.018    0.221          0.282          0.393   \n",
       "DiabetesPedigreeFunction       -0.034    0.137          0.041          0.184   \n",
       "Age                             0.544    0.264          0.240         -0.114   \n",
       "Outcome                         0.222    0.467          0.065          0.075   \n",
       "\n",
       "                          Insulin   BMI  DiabetesPedigreeFunction    Age  \\\n",
       "Pregnancies                -0.074 0.018                    -0.034  0.544   \n",
       "Glucose                     0.331 0.221                     0.137  0.264   \n",
       "BloodPressure               0.089 0.282                     0.041  0.240   \n",
       "SkinThickness               0.437 0.393                     0.184 -0.114   \n",
       "Insulin                     1.000 0.198                     0.185 -0.042   \n",
       "BMI                         0.198 1.000                     0.141  0.036   \n",
       "DiabetesPedigreeFunction    0.185 0.141                     1.000  0.034   \n",
       "Age                        -0.042 0.036                     0.034  1.000   \n",
       "Outcome                     0.131 0.293                     0.174  0.238   \n",
       "\n",
       "                          Outcome  \n",
       "Pregnancies                 0.222  \n",
       "Glucose                     0.467  \n",
       "BloodPressure               0.065  \n",
       "SkinThickness               0.075  \n",
       "Insulin                     0.131  \n",
       "BMI                         0.293  \n",
       "DiabetesPedigreeFunction    0.174  \n",
       "Age                         0.238  \n",
       "Outcome                     1.000  "
      ]
     },
     "execution_count": 12,
     "metadata": {},
     "output_type": "execute_result"
    }
   ],
   "source": [
    "df.corr()"
   ]
  },
  {
   "cell_type": "markdown",
   "id": "88dedca7",
   "metadata": {
    "papermill": {
     "duration": 0.019531,
     "end_time": "2023-08-30T17:01:28.041356",
     "exception": false,
     "start_time": "2023-08-30T17:01:28.021825",
     "status": "completed"
    },
    "tags": []
   },
   "source": [
    "**Correlation Matrix**"
   ]
  },
  {
   "cell_type": "code",
   "execution_count": 13,
   "id": "6f0715c3",
   "metadata": {
    "execution": {
     "iopub.execute_input": "2023-08-30T17:01:28.082754Z",
     "iopub.status.busy": "2023-08-30T17:01:28.082369Z",
     "iopub.status.idle": "2023-08-30T17:01:28.909246Z",
     "shell.execute_reply": "2023-08-30T17:01:28.908319Z"
    },
    "papermill": {
     "duration": 0.850895,
     "end_time": "2023-08-30T17:01:28.911986",
     "exception": false,
     "start_time": "2023-08-30T17:01:28.061091",
     "status": "completed"
    },
    "tags": []
   },
   "outputs": [
    {
     "data": {
      "image/png": "[encoded data removed]",
      "text/plain": [
       "<Figure size 1800x1300 with 2 Axes>"
      ]
     },
     "metadata": {},
     "output_type": "display_data"
    }
   ],
   "source": [
    "f, ax = plt.subplots(figsize=[18, 13])\n",
    "sns.heatmap(df.corr(), annot=True, fmt=\".2f\", ax=ax, cmap=\"magma\")\n",
    "ax.set_title(\"Correlation Matrix\", fontsize=20)\n",
    "plt.show()\n"
   ]
  },
  {
   "cell_type": "markdown",
   "id": "46bc2f5b",
   "metadata": {
    "papermill": {
     "duration": 0.021521,
     "end_time": "2023-08-30T17:01:28.956560",
     "exception": false,
     "start_time": "2023-08-30T17:01:28.935039",
     "status": "completed"
    },
    "tags": []
   },
   "source": [
    "**BASE MODEL KURULUMU**"
   ]
  },
  {
   "cell_type": "code",
   "execution_count": 14,
   "id": "c14ed985",
   "metadata": {
    "execution": {
     "iopub.execute_input": "2023-08-30T17:01:29.003599Z",
     "iopub.status.busy": "2023-08-30T17:01:29.003134Z",
     "iopub.status.idle": "2023-08-30T17:01:29.287803Z",
     "shell.execute_reply": "2023-08-30T17:01:29.286247Z"
    },
    "papermill": {
     "duration": 0.311101,
     "end_time": "2023-08-30T17:01:29.290438",
     "exception": false,
     "start_time": "2023-08-30T17:01:28.979337",
     "status": "completed"
    },
    "tags": []
   },
   "outputs": [
    {
     "name": "stdout",
     "output_type": "stream",
     "text": [
      "Accuracy: 0.77\n",
      "Recall: 0.706\n",
      "Precision: 0.59\n",
      "F1: 0.64\n",
      "Auc: 0.75\n"
     ]
    }
   ],
   "source": [
    "y = df[\"Outcome\"]\n",
    "X = df.drop(\"Outcome\", axis=1)\n",
    "X_train, X_test, y_train, y_test = train_test_split(X, y, test_size=0.30, random_state=17)\n",
    "\n",
    "rf_model = RandomForestClassifier(random_state=46).fit(X_train, y_train)\n",
    "y_pred = rf_model.predict(X_test)\n",
    "\n",
    "\n",
    "print(f\"Accuracy: {round(accuracy_score(y_pred, y_test), 2)}\")\n",
    "print(f\"Recall: {round(recall_score(y_pred,y_test),3)}\")\n",
    "print(f\"Precision: {round(precision_score(y_pred,y_test), 2)}\")\n",
    "print(f\"F1: {round(f1_score(y_pred,y_test), 2)}\")\n",
    "print(f\"Auc: {round(roc_auc_score(y_pred,y_test), 2)}\")"
   ]
  },
  {
   "cell_type": "markdown",
   "id": "1fa82a4b",
   "metadata": {
    "papermill": {
     "duration": 0.025406,
     "end_time": "2023-08-30T17:01:29.337878",
     "exception": false,
     "start_time": "2023-08-30T17:01:29.312472",
     "status": "completed"
    },
    "tags": []
   },
   "source": [
    "Accuracy: 0.77\n",
    "\n",
    "Recall: 0.706 (how successfully the positive class is predicted)\n",
    "\n",
    "Precision: 0.59 (Success of predicted values as positive class)\n",
    "\n",
    "F1: 0.64\n",
    "\n",
    "Auc: 0.75\n"
   ]
  },
  {
   "cell_type": "code",
   "execution_count": 15,
   "id": "a6e68629",
   "metadata": {
    "execution": {
     "iopub.execute_input": "2023-08-30T17:01:29.388057Z",
     "iopub.status.busy": "2023-08-30T17:01:29.386640Z",
     "iopub.status.idle": "2023-08-30T17:01:29.897844Z",
     "shell.execute_reply": "2023-08-30T17:01:29.896656Z"
    },
    "papermill": {
     "duration": 0.537743,
     "end_time": "2023-08-30T17:01:29.900736",
     "exception": false,
     "start_time": "2023-08-30T17:01:29.362993",
     "status": "completed"
    },
    "tags": []
   },
   "outputs": [
    {
     "data": {
      "image/png": "[encoded data removed]",
      "text/plain": [
       "<Figure size 1000x1000 with 1 Axes>"
      ]
     },
     "metadata": {},
     "output_type": "display_data"
    }
   ],
   "source": [
    "def plot_importance(model, features, num=len(X), save=False):\n",
    "    feature_imp = pd.DataFrame({'Value': model.feature_importances_, 'Feature': features.columns})\n",
    "    plt.figure(figsize=(10, 10))\n",
    "    sns.set(font_scale=1)\n",
    "    sns.barplot(x=\"Value\", y=\"Feature\", data=feature_imp.sort_values(by=\"Value\",\n",
    "                                                                     ascending=False)[0:num])\n",
    "    plt.title('Features')\n",
    "    plt.tight_layout()\n",
    "    plt.show()\n",
    "    if save:\n",
    "        plt.savefig('importances.png')\n",
    "\n",
    "plot_importance(rf_model, X)"
   ]
  },
  {
   "cell_type": "markdown",
   "id": "3570e640",
   "metadata": {
    "papermill": {
     "duration": 0.023275,
     "end_time": "2023-08-30T17:01:29.947033",
     "exception": false,
     "start_time": "2023-08-30T17:01:29.923758",
     "status": "completed"
    },
    "tags": []
   },
   "source": [
    "**TASK 2: FEATURE ENGINEERING**\n",
    "\n",
    "**MISSING VALUE ANALYSIS**\n",
    "\n",
    "It is known that in a human being, variable values other than Pregnancies and Outcome cannot be 0.\n",
    "\n",
    "Therefore, an action decision must be taken regarding these values. Values that are 0 can be assigned NaN."
   ]
  },
  {
   "cell_type": "code",
   "execution_count": 16,
   "id": "d59284c6",
   "metadata": {
    "execution": {
     "iopub.execute_input": "2023-08-30T17:01:29.994890Z",
     "iopub.status.busy": "2023-08-30T17:01:29.993821Z",
     "iopub.status.idle": "2023-08-30T17:01:30.003119Z",
     "shell.execute_reply": "2023-08-30T17:01:30.002013Z"
    },
    "papermill": {
     "duration": 0.035573,
     "end_time": "2023-08-30T17:01:30.005566",
     "exception": false,
     "start_time": "2023-08-30T17:01:29.969993",
     "status": "completed"
    },
    "tags": []
   },
   "outputs": [
    {
     "data": {
      "text/plain": [
       "['Glucose', 'BloodPressure', 'SkinThickness', 'Insulin', 'BMI']"
      ]
     },
     "execution_count": 16,
     "metadata": {},
     "output_type": "execute_result"
    }
   ],
   "source": [
    "zero_columns = [col for col in df.columns if (df[col].min() == 0 and col not in [\"Pregnancies\", \"Outcome\"])]\n",
    "\n",
    "zero_columns"
   ]
  },
  {
   "cell_type": "markdown",
   "id": "3083ac97",
   "metadata": {
    "papermill": {
     "duration": 0.024361,
     "end_time": "2023-08-30T17:01:30.053009",
     "exception": false,
     "start_time": "2023-08-30T17:01:30.028648",
     "status": "completed"
    },
    "tags": []
   },
   "source": [
    "We went to each of the variables with 0 in the observation units and replaced the observation values containing 0 with NaN."
   ]
  },
  {
   "cell_type": "code",
   "execution_count": 17,
   "id": "bbcc2b9f",
   "metadata": {
    "execution": {
     "iopub.execute_input": "2023-08-30T17:01:30.100020Z",
     "iopub.status.busy": "2023-08-30T17:01:30.099589Z",
     "iopub.status.idle": "2023-08-30T17:01:30.108915Z",
     "shell.execute_reply": "2023-08-30T17:01:30.107446Z"
    },
    "papermill": {
     "duration": 0.035646,
     "end_time": "2023-08-30T17:01:30.111410",
     "exception": false,
     "start_time": "2023-08-30T17:01:30.075764",
     "status": "completed"
    },
    "tags": []
   },
   "outputs": [],
   "source": [
    "for col in zero_columns:\n",
    "    df[col] = np.where(df[col] == 0, np.nan, df[col])"
   ]
  },
  {
   "cell_type": "markdown",
   "id": "183b388b",
   "metadata": {
    "papermill": {
     "duration": 0.02324,
     "end_time": "2023-08-30T17:01:30.158258",
     "exception": false,
     "start_time": "2023-08-30T17:01:30.135018",
     "status": "completed"
    },
    "tags": []
   },
   "source": [
    "**Missing Observation Analysis**"
   ]
  },
  {
   "cell_type": "code",
   "execution_count": 18,
   "id": "43240dd6",
   "metadata": {
    "execution": {
     "iopub.execute_input": "2023-08-30T17:01:30.205593Z",
     "iopub.status.busy": "2023-08-30T17:01:30.205155Z",
     "iopub.status.idle": "2023-08-30T17:01:30.216046Z",
     "shell.execute_reply": "2023-08-30T17:01:30.214721Z"
    },
    "papermill": {
     "duration": 0.03795,
     "end_time": "2023-08-30T17:01:30.218602",
     "exception": false,
     "start_time": "2023-08-30T17:01:30.180652",
     "status": "completed"
    },
    "tags": []
   },
   "outputs": [
    {
     "data": {
      "text/plain": [
       "Pregnancies                   0\n",
       "Glucose                       5\n",
       "BloodPressure                35\n",
       "SkinThickness               227\n",
       "Insulin                     374\n",
       "BMI                          11\n",
       "DiabetesPedigreeFunction      0\n",
       "Age                           0\n",
       "Outcome                       0\n",
       "dtype: int64"
      ]
     },
     "execution_count": 18,
     "metadata": {},
     "output_type": "execute_result"
    }
   ],
   "source": [
    "df.isnull().sum()"
   ]
  },
  {
   "cell_type": "code",
   "execution_count": 19,
   "id": "e475a3b2",
   "metadata": {
    "execution": {
     "iopub.execute_input": "2023-08-30T17:01:30.266050Z",
     "iopub.status.busy": "2023-08-30T17:01:30.265636Z",
     "iopub.status.idle": "2023-08-30T17:01:30.283597Z",
     "shell.execute_reply": "2023-08-30T17:01:30.281950Z"
    },
    "papermill": {
     "duration": 0.044874,
     "end_time": "2023-08-30T17:01:30.286001",
     "exception": false,
     "start_time": "2023-08-30T17:01:30.241127",
     "status": "completed"
    },
    "tags": []
   },
   "outputs": [
    {
     "name": "stdout",
     "output_type": "stream",
     "text": [
      "               n_miss  ratio\n",
      "Insulin           374 48.700\n",
      "SkinThickness     227 29.560\n",
      "BloodPressure      35  4.560\n",
      "BMI                11  1.430\n",
      "Glucose             5  0.650\n"
     ]
    }
   ],
   "source": [
    "def missing_values_table(dataframe, na_name=False):\n",
    "    na_columns = [col for col in dataframe.columns if dataframe[col].isnull().sum() > 0]\n",
    "    n_miss = dataframe[na_columns].isnull().sum().sort_values(ascending=False)\n",
    "    ratio = (dataframe[na_columns].isnull().sum() / dataframe.shape[0] * 100).sort_values(ascending=False)\n",
    "    missing_df = pd.concat([n_miss, np.round(ratio, 2)], axis=1, keys=['n_miss', 'ratio'])\n",
    "    print(missing_df, end=\"\\n\")\n",
    "    if na_name:\n",
    "        return na_columns\n",
    "\n",
    "na_columns = missing_values_table(df, na_name=True)\n"
   ]
  },
  {
   "cell_type": "markdown",
   "id": "e39e8e45",
   "metadata": {
    "papermill": {
     "duration": 0.024193,
     "end_time": "2023-08-30T17:01:30.336027",
     "exception": false,
     "start_time": "2023-08-30T17:01:30.311834",
     "status": "completed"
    },
    "tags": []
   },
   "source": [
    "**Analysing the Relationship between Missing Values and Dependent Variable**"
   ]
  },
  {
   "cell_type": "code",
   "execution_count": 20,
   "id": "ab78e596",
   "metadata": {
    "execution": {
     "iopub.execute_input": "2023-08-30T17:01:30.383778Z",
     "iopub.status.busy": "2023-08-30T17:01:30.383346Z",
     "iopub.status.idle": "2023-08-30T17:01:30.414633Z",
     "shell.execute_reply": "2023-08-30T17:01:30.413040Z"
    },
    "papermill": {
     "duration": 0.058112,
     "end_time": "2023-08-30T17:01:30.417096",
     "exception": false,
     "start_time": "2023-08-30T17:01:30.358984",
     "status": "completed"
    },
    "tags": []
   },
   "outputs": [
    {
     "name": "stdout",
     "output_type": "stream",
     "text": [
      "                 TARGET_MEAN  Count\n",
      "Glucose_NA_FLAG                    \n",
      "0                      0.349    763\n",
      "1                      0.400      5\n",
      "\n",
      "\n",
      "                       TARGET_MEAN  Count\n",
      "BloodPressure_NA_FLAG                    \n",
      "0                            0.344    733\n",
      "1                            0.457     35\n",
      "\n",
      "\n",
      "                       TARGET_MEAN  Count\n",
      "SkinThickness_NA_FLAG                    \n",
      "0                            0.333    541\n",
      "1                            0.388    227\n",
      "\n",
      "\n",
      "                 TARGET_MEAN  Count\n",
      "Insulin_NA_FLAG                    \n",
      "0                      0.330    394\n",
      "1                      0.369    374\n",
      "\n",
      "\n",
      "             TARGET_MEAN  Count\n",
      "BMI_NA_FLAG                    \n",
      "0                  0.351    757\n",
      "1                  0.182     11\n",
      "\n",
      "\n"
     ]
    }
   ],
   "source": [
    "def missing_vs_target(dataframe, target, na_columns):\n",
    "    temp_df = dataframe.copy()\n",
    "    for col in na_columns:\n",
    "        temp_df[col + '_NA_FLAG'] = np.where(temp_df[col].isnull(), 1, 0)\n",
    "    na_flags = temp_df.loc[:, temp_df.columns.str.contains(\"_NA_\")].columns\n",
    "    for col in na_flags:\n",
    "        print(pd.DataFrame({\"TARGET_MEAN\": temp_df.groupby(col)[target].mean(),\n",
    "                            \"Count\": temp_df.groupby(col)[target].count()}), end=\"\\n\\n\\n\")\n",
    "\n",
    "\n",
    "missing_vs_target(df, \"Outcome\", na_columns)"
   ]
  },
  {
   "cell_type": "markdown",
   "id": "23f7e560",
   "metadata": {
    "papermill": {
     "duration": 0.022608,
     "end_time": "2023-08-30T17:01:30.463576",
     "exception": false,
     "start_time": "2023-08-30T17:01:30.440968",
     "status": "completed"
    },
    "tags": []
   },
   "source": [
    "**Filling Missing Values**\n",
    "\n"
   ]
  },
  {
   "cell_type": "code",
   "execution_count": 21,
   "id": "823f08f6",
   "metadata": {
    "execution": {
     "iopub.execute_input": "2023-08-30T17:01:30.513443Z",
     "iopub.status.busy": "2023-08-30T17:01:30.513037Z",
     "iopub.status.idle": "2023-08-30T17:01:30.527507Z",
     "shell.execute_reply": "2023-08-30T17:01:30.526203Z"
    },
    "papermill": {
     "duration": 0.042826,
     "end_time": "2023-08-30T17:01:30.530191",
     "exception": false,
     "start_time": "2023-08-30T17:01:30.487365",
     "status": "completed"
    },
    "tags": []
   },
   "outputs": [
    {
     "data": {
      "text/plain": [
       "Pregnancies                 0\n",
       "Glucose                     0\n",
       "BloodPressure               0\n",
       "SkinThickness               0\n",
       "Insulin                     0\n",
       "BMI                         0\n",
       "DiabetesPedigreeFunction    0\n",
       "Age                         0\n",
       "Outcome                     0\n",
       "dtype: int64"
      ]
     },
     "execution_count": 21,
     "metadata": {},
     "output_type": "execute_result"
    }
   ],
   "source": [
    "for col in zero_columns:\n",
    "    df.loc[df[col].isnull(), col] = df[col].median()\n",
    "\n",
    "\n",
    "df.isnull().sum()"
   ]
  },
  {
   "cell_type": "markdown",
   "id": "407c35eb",
   "metadata": {
    "papermill": {
     "duration": 0.02299,
     "end_time": "2023-08-30T17:01:30.577240",
     "exception": false,
     "start_time": "2023-08-30T17:01:30.554250",
     "status": "completed"
    },
    "tags": []
   },
   "source": [
    "**OUTLIER VALUE ANALYSIS**"
   ]
  },
  {
   "cell_type": "code",
   "execution_count": 22,
   "id": "189e91af",
   "metadata": {
    "execution": {
     "iopub.execute_input": "2023-08-30T17:01:30.625253Z",
     "iopub.status.busy": "2023-08-30T17:01:30.624807Z",
     "iopub.status.idle": "2023-08-30T17:01:30.633863Z",
     "shell.execute_reply": "2023-08-30T17:01:30.632661Z"
    },
    "papermill": {
     "duration": 0.035854,
     "end_time": "2023-08-30T17:01:30.636248",
     "exception": false,
     "start_time": "2023-08-30T17:01:30.600394",
     "status": "completed"
    },
    "tags": []
   },
   "outputs": [],
   "source": [
    "def outlier_thresholds(dataframe, col_name, q1=0.05, q3=0.95):\n",
    "    quartile1 = dataframe[col_name].quantile(q1)\n",
    "    quartile3 = dataframe[col_name].quantile(q3)\n",
    "    interquantile_range = quartile3 - quartile1\n",
    "    up_limit = quartile3 + 1.5 * interquantile_range\n",
    "    low_limit = quartile1 - 1.5 * interquantile_range\n",
    "    return low_limit, up_limit\n",
    "\n",
    "def check_outlier(dataframe, col_name):\n",
    "    low_limit, up_limit = outlier_thresholds(dataframe, col_name)\n",
    "    if dataframe[(dataframe[col_name] > up_limit) | (dataframe[col_name] < low_limit)].any(axis=None):\n",
    "        return True\n",
    "    else:\n",
    "        return False\n",
    "\n",
    "def replace_with_thresholds(dataframe, variable, q1=0.05, q3=0.95):\n",
    "    low_limit, up_limit = outlier_thresholds(dataframe, variable, q1=0.05, q3=0.95)\n",
    "    dataframe.loc[(dataframe[variable] < low_limit), variable] = low_limit\n",
    "    dataframe.loc[(dataframe[variable] > up_limit), variable] = up_limit"
   ]
  },
  {
   "cell_type": "markdown",
   "id": "b023cb40",
   "metadata": {
    "papermill": {
     "duration": 0.022979,
     "end_time": "2023-08-30T17:01:30.682231",
     "exception": false,
     "start_time": "2023-08-30T17:01:30.659252",
     "status": "completed"
    },
    "tags": []
   },
   "source": [
    "**Outlier Analysis and Suppression**"
   ]
  },
  {
   "cell_type": "code",
   "execution_count": 23,
   "id": "0112ba95",
   "metadata": {
    "execution": {
     "iopub.execute_input": "2023-08-30T17:01:30.730559Z",
     "iopub.status.busy": "2023-08-30T17:01:30.730135Z",
     "iopub.status.idle": "2023-08-30T17:01:30.829103Z",
     "shell.execute_reply": "2023-08-30T17:01:30.827642Z"
    },
    "papermill": {
     "duration": 0.126491,
     "end_time": "2023-08-30T17:01:30.831870",
     "exception": false,
     "start_time": "2023-08-30T17:01:30.705379",
     "status": "completed"
    },
    "tags": []
   },
   "outputs": [
    {
     "name": "stdout",
     "output_type": "stream",
     "text": [
      "Pregnancies False\n",
      "Glucose False\n",
      "BloodPressure False\n",
      "SkinThickness True\n",
      "Insulin True\n",
      "BMI False\n",
      "DiabetesPedigreeFunction False\n",
      "Age False\n",
      "Outcome False\n",
      "Pregnancies False\n",
      "Glucose False\n",
      "BloodPressure False\n",
      "SkinThickness False\n",
      "Insulin False\n",
      "BMI False\n",
      "DiabetesPedigreeFunction False\n",
      "Age False\n",
      "Outcome False\n"
     ]
    }
   ],
   "source": [
    "for col in df.columns:\n",
    "    print(col, check_outlier(df, col))\n",
    "    if check_outlier(df, col):\n",
    "        replace_with_thresholds(df, col)\n",
    "\n",
    "for col in df.columns:\n",
    "    print(col, check_outlier(df, col))\n"
   ]
  },
  {
   "cell_type": "markdown",
   "id": "123f23a7",
   "metadata": {
    "papermill": {
     "duration": 0.024037,
     "end_time": "2023-08-30T17:01:30.879552",
     "exception": false,
     "start_time": "2023-08-30T17:01:30.855515",
     "status": "completed"
    },
    "tags": []
   },
   "source": [
    "**FEATURE EXTRACTION**\n",
    "\n",
    "Categorising the age variable and creating a new age variable"
   ]
  },
  {
   "cell_type": "code",
   "execution_count": 24,
   "id": "d1928c50",
   "metadata": {
    "execution": {
     "iopub.execute_input": "2023-08-30T17:01:30.929302Z",
     "iopub.status.busy": "2023-08-30T17:01:30.928371Z",
     "iopub.status.idle": "2023-08-30T17:01:30.937156Z",
     "shell.execute_reply": "2023-08-30T17:01:30.935755Z"
    },
    "papermill": {
     "duration": 0.036754,
     "end_time": "2023-08-30T17:01:30.940013",
     "exception": false,
     "start_time": "2023-08-30T17:01:30.903259",
     "status": "completed"
    },
    "tags": []
   },
   "outputs": [],
   "source": [
    "df.loc[(df[\"Age\"] >= 21) & (df[\"Age\"] < 50), \"NEW_AGE_CAT\"] = \"mature\"\n",
    "df.loc[(df[\"Age\"] >= 50), \"NEW_AGE_CAT\"] = \"senior\""
   ]
  },
  {
   "cell_type": "markdown",
   "id": "db1c1dd9",
   "metadata": {
    "papermill": {
     "duration": 0.023251,
     "end_time": "2023-08-30T17:01:30.989046",
     "exception": false,
     "start_time": "2023-08-30T17:01:30.965795",
     "status": "completed"
    },
    "tags": []
   },
   "source": [
    "BMI below 18.5 is underweight, between 18.5 and 24.9 is normal, between 24.9 and 29.9 is overweight and above 30 is obese"
   ]
  },
  {
   "cell_type": "code",
   "execution_count": 25,
   "id": "4d188b3b",
   "metadata": {
    "execution": {
     "iopub.execute_input": "2023-08-30T17:01:31.036777Z",
     "iopub.status.busy": "2023-08-30T17:01:31.036389Z",
     "iopub.status.idle": "2023-08-30T17:01:31.044842Z",
     "shell.execute_reply": "2023-08-30T17:01:31.043931Z"
    },
    "papermill": {
     "duration": 0.035005,
     "end_time": "2023-08-30T17:01:31.047031",
     "exception": false,
     "start_time": "2023-08-30T17:01:31.012026",
     "status": "completed"
    },
    "tags": []
   },
   "outputs": [],
   "source": [
    "df['NEW_BMI'] = pd.cut(x=df['BMI'], bins=[0, 18.5, 24.9, 29.9, 100],labels=[\"Underweight\", \"Healthy\", \"Overweight\", \"Obese\"])"
   ]
  },
  {
   "cell_type": "markdown",
   "id": "6d548ee0",
   "metadata": {
    "papermill": {
     "duration": 0.023777,
     "end_time": "2023-08-30T17:01:31.093768",
     "exception": false,
     "start_time": "2023-08-30T17:01:31.069991",
     "status": "completed"
    },
    "tags": []
   },
   "source": [
    "Convert glucose value to categorical variable"
   ]
  },
  {
   "cell_type": "code",
   "execution_count": 26,
   "id": "cdef4e60",
   "metadata": {
    "execution": {
     "iopub.execute_input": "2023-08-30T17:01:31.141879Z",
     "iopub.status.busy": "2023-08-30T17:01:31.141180Z",
     "iopub.status.idle": "2023-08-30T17:01:31.149284Z",
     "shell.execute_reply": "2023-08-30T17:01:31.148260Z"
    },
    "papermill": {
     "duration": 0.035248,
     "end_time": "2023-08-30T17:01:31.152072",
     "exception": false,
     "start_time": "2023-08-30T17:01:31.116824",
     "status": "completed"
    },
    "tags": []
   },
   "outputs": [],
   "source": [
    "df[\"NEW_GLUCOSE\"] = pd.cut(x=df[\"Glucose\"], bins=[0, 140, 200, 300], labels=[\"Normal\", \"Prediabetes\", \"Diabetes\"])"
   ]
  },
  {
   "cell_type": "markdown",
   "id": "1f2c488e",
   "metadata": {
    "papermill": {
     "duration": 0.024053,
     "end_time": "2023-08-30T17:01:31.200454",
     "exception": false,
     "start_time": "2023-08-30T17:01:31.176401",
     "status": "completed"
    },
    "tags": []
   },
   "source": [
    "Creating a categorical variable by considering age and body mass index together 3 breakdowns were captured"
   ]
  },
  {
   "cell_type": "code",
   "execution_count": 27,
   "id": "a80b4845",
   "metadata": {
    "execution": {
     "iopub.execute_input": "2023-08-30T17:01:31.248796Z",
     "iopub.status.busy": "2023-08-30T17:01:31.248361Z",
     "iopub.status.idle": "2023-08-30T17:01:31.268003Z",
     "shell.execute_reply": "2023-08-30T17:01:31.267173Z"
    },
    "papermill": {
     "duration": 0.046862,
     "end_time": "2023-08-30T17:01:31.270402",
     "exception": false,
     "start_time": "2023-08-30T17:01:31.223540",
     "status": "completed"
    },
    "tags": []
   },
   "outputs": [],
   "source": [
    "df.loc[(df[\"BMI\"] < 18.5) & ((df[\"Age\"] >= 21) & (df[\"Age\"] < 50)), \"NEW_AGE_BMI_NOM\"] = \"underweightmature\"\n",
    "df.loc[(df[\"BMI\"] < 18.5) & (df[\"Age\"] >= 50), \"NEW_AGE_BMI_NOM\"] = \"underweightsenior\"\n",
    "df.loc[((df[\"BMI\"] >= 18.5) & (df[\"BMI\"] < 25)) & ((df[\"Age\"] >= 21) & (df[\"Age\"] < 50)), \"NEW_AGE_BMI_NOM\"] = \"healthymature\"\n",
    "df.loc[((df[\"BMI\"] >= 18.5) & (df[\"BMI\"] < 25)) & (df[\"Age\"] >= 50), \"NEW_AGE_BMI_NOM\"] = \"healthysenior\"\n",
    "df.loc[((df[\"BMI\"] >= 25) & (df[\"BMI\"] < 30)) & ((df[\"Age\"] >= 21) & (df[\"Age\"] < 50)), \"NEW_AGE_BMI_NOM\"] = \"overweightmature\"\n",
    "df.loc[((df[\"BMI\"] >= 25) & (df[\"BMI\"] < 30)) & (df[\"Age\"] >= 50), \"NEW_AGE_BMI_NOM\"] = \"overweightsenior\"\n",
    "df.loc[(df[\"BMI\"] > 18.5) & ((df[\"Age\"] >= 21) & (df[\"Age\"] < 50)), \"NEW_AGE_BMI_NOM\"] = \"obesemature\"\n",
    "df.loc[(df[\"BMI\"] > 18.5) & (df[\"Age\"] >= 50), \"NEW_AGE_BMI_NOM\"] = \"obesesenior\""
   ]
  },
  {
   "cell_type": "markdown",
   "id": "8a84298f",
   "metadata": {
    "papermill": {
     "duration": 0.023102,
     "end_time": "2023-08-30T17:01:31.316353",
     "exception": false,
     "start_time": "2023-08-30T17:01:31.293251",
     "status": "completed"
    },
    "tags": []
   },
   "source": [
    "Creating a categorical variable by evaluating age and glucose values together"
   ]
  },
  {
   "cell_type": "code",
   "execution_count": 28,
   "id": "942a0456",
   "metadata": {
    "execution": {
     "iopub.execute_input": "2023-08-30T17:01:31.366236Z",
     "iopub.status.busy": "2023-08-30T17:01:31.365422Z",
     "iopub.status.idle": "2023-08-30T17:01:31.383952Z",
     "shell.execute_reply": "2023-08-30T17:01:31.382488Z"
    },
    "papermill": {
     "duration": 0.046783,
     "end_time": "2023-08-30T17:01:31.386838",
     "exception": false,
     "start_time": "2023-08-30T17:01:31.340055",
     "status": "completed"
    },
    "tags": []
   },
   "outputs": [],
   "source": [
    "df.loc[(df[\"Glucose\"] < 70) & ((df[\"Age\"] >= 21) & (df[\"Age\"] < 50)), \"NEW_AGE_GLUCOSE_NOM\"] = \"lowmature\"\n",
    "df.loc[(df[\"Glucose\"] < 70) & (df[\"Age\"] >= 50), \"NEW_AGE_GLUCOSE_NOM\"] = \"lowsenior\"\n",
    "df.loc[((df[\"Glucose\"] >= 70) & (df[\"Glucose\"] < 100)) & ((df[\"Age\"] >= 21) & (df[\"Age\"] < 50)), \"NEW_AGE_GLUCOSE_NOM\"] = \"normalmature\"\n",
    "df.loc[((df[\"Glucose\"] >= 70) & (df[\"Glucose\"] < 100)) & (df[\"Age\"] >= 50), \"NEW_AGE_GLUCOSE_NOM\"] = \"normalsenior\"\n",
    "df.loc[((df[\"Glucose\"] >= 100) & (df[\"Glucose\"] <= 125)) & ((df[\"Age\"] >= 21) & (df[\"Age\"] < 50)), \"NEW_AGE_GLUCOSE_NOM\"] = \"hiddenmature\"\n",
    "df.loc[((df[\"Glucose\"] >= 100) & (df[\"Glucose\"] <= 125)) & (df[\"Age\"] >= 50), \"NEW_AGE_GLUCOSE_NOM\"] = \"hiddensenior\"\n",
    "df.loc[(df[\"Glucose\"] > 125) & ((df[\"Age\"] >= 21) & (df[\"Age\"] < 50)), \"NEW_AGE_GLUCOSE_NOM\"] = \"highmature\"\n",
    "df.loc[(df[\"Glucose\"] > 125) & (df[\"Age\"] >= 50), \"NEW_AGE_GLUCOSE_NOM\"] = \"highsenior\""
   ]
  },
  {
   "cell_type": "markdown",
   "id": "0c166c62",
   "metadata": {
    "papermill": {
     "duration": 0.02301,
     "end_time": "2023-08-30T17:01:31.433465",
     "exception": false,
     "start_time": "2023-08-30T17:01:31.410455",
     "status": "completed"
    },
    "tags": []
   },
   "source": [
    "Deriving a Categorical Variable with Insulin Value"
   ]
  },
  {
   "cell_type": "code",
   "execution_count": 29,
   "id": "33567f04",
   "metadata": {
    "execution": {
     "iopub.execute_input": "2023-08-30T17:01:31.481932Z",
     "iopub.status.busy": "2023-08-30T17:01:31.481526Z",
     "iopub.status.idle": "2023-08-30T17:01:31.499686Z",
     "shell.execute_reply": "2023-08-30T17:01:31.498545Z"
    },
    "papermill": {
     "duration": 0.045482,
     "end_time": "2023-08-30T17:01:31.502344",
     "exception": false,
     "start_time": "2023-08-30T17:01:31.456862",
     "status": "completed"
    },
    "tags": []
   },
   "outputs": [],
   "source": [
    "def set_insulin(dataframe, col_name=\"Insulin\"):\n",
    "    if 16 <= dataframe[col_name] <= 166:\n",
    "        return \"Normal\"\n",
    "    else:\n",
    "        return \"Abnormal\"\n",
    "\n",
    "df[\"NEW_INSULIN_SCORE\"] = df.apply(set_insulin, axis=1)\n",
    "\n",
    "df[\"NEW_GLUCOSE*INSULIN\"] = df[\"Glucose\"] * df[\"Insulin\"]"
   ]
  },
  {
   "cell_type": "markdown",
   "id": "199e043d",
   "metadata": {
    "papermill": {
     "duration": 0.024427,
     "end_time": "2023-08-30T17:01:31.550767",
     "exception": false,
     "start_time": "2023-08-30T17:01:31.526340",
     "status": "completed"
    },
    "tags": []
   },
   "source": [
    "Note the zero values!!!!"
   ]
  },
  {
   "cell_type": "code",
   "execution_count": 30,
   "id": "49481d40",
   "metadata": {
    "execution": {
     "iopub.execute_input": "2023-08-30T17:01:31.601013Z",
     "iopub.status.busy": "2023-08-30T17:01:31.600634Z",
     "iopub.status.idle": "2023-08-30T17:01:31.607061Z",
     "shell.execute_reply": "2023-08-30T17:01:31.605885Z"
    },
    "papermill": {
     "duration": 0.034444,
     "end_time": "2023-08-30T17:01:31.609375",
     "exception": false,
     "start_time": "2023-08-30T17:01:31.574931",
     "status": "completed"
    },
    "tags": []
   },
   "outputs": [],
   "source": [
    "df[\"NEW_GLUCOSE*PREGNANCIES\"] = df[\"Glucose\"] * df[\"Pregnancies\"]"
   ]
  },
  {
   "cell_type": "markdown",
   "id": "62069741",
   "metadata": {
    "papermill": {
     "duration": 0.02347,
     "end_time": "2023-08-30T17:01:31.657703",
     "exception": false,
     "start_time": "2023-08-30T17:01:31.634233",
     "status": "completed"
    },
    "tags": []
   },
   "source": [
    "Enlargement of columns"
   ]
  },
  {
   "cell_type": "code",
   "execution_count": 31,
   "id": "5b610329",
   "metadata": {
    "execution": {
     "iopub.execute_input": "2023-08-30T17:01:31.706220Z",
     "iopub.status.busy": "2023-08-30T17:01:31.705804Z",
     "iopub.status.idle": "2023-08-30T17:01:31.726256Z",
     "shell.execute_reply": "2023-08-30T17:01:31.725012Z"
    },
    "papermill": {
     "duration": 0.047688,
     "end_time": "2023-08-30T17:01:31.728609",
     "exception": false,
     "start_time": "2023-08-30T17:01:31.680921",
     "status": "completed"
    },
    "tags": []
   },
   "outputs": [
    {
     "data": {
      "text/html": [
       "<div>\n",
       "<style scoped>\n",
       "    .dataframe tbody tr th:only-of-type {\n",
       "        vertical-align: middle;\n",
       "    }\n",
       "\n",
       "    .dataframe tbody tr th {\n",
       "        vertical-align: top;\n",
       "    }\n",
       "\n",
       "    .dataframe thead th {\n",
       "        text-align: right;\n",
       "    }\n",
       "</style>\n",
       "<table border=\"1\" class=\"dataframe\">\n",
       "  <thead>\n",
       "    <tr style=\"text-align: right;\">\n",
       "      <th></th>\n",
       "      <th>PREGNANCIES</th>\n",
       "      <th>GLUCOSE</th>\n",
       "      <th>BLOODPRESSURE</th>\n",
       "      <th>SKINTHICKNESS</th>\n",
       "      <th>INSULIN</th>\n",
       "      <th>BMI</th>\n",
       "      <th>DIABETESPEDIGREEFUNCTION</th>\n",
       "      <th>AGE</th>\n",
       "      <th>OUTCOME</th>\n",
       "      <th>NEW_AGE_CAT</th>\n",
       "      <th>NEW_BMI</th>\n",
       "      <th>NEW_GLUCOSE</th>\n",
       "      <th>NEW_AGE_BMI_NOM</th>\n",
       "      <th>NEW_AGE_GLUCOSE_NOM</th>\n",
       "      <th>NEW_INSULIN_SCORE</th>\n",
       "      <th>NEW_GLUCOSE*INSULIN</th>\n",
       "      <th>NEW_GLUCOSE*PREGNANCIES</th>\n",
       "    </tr>\n",
       "  </thead>\n",
       "  <tbody>\n",
       "    <tr>\n",
       "      <th>0</th>\n",
       "      <td>6</td>\n",
       "      <td>148.000</td>\n",
       "      <td>72.000</td>\n",
       "      <td>35.000</td>\n",
       "      <td>125.000</td>\n",
       "      <td>33.600</td>\n",
       "      <td>0.627</td>\n",
       "      <td>50</td>\n",
       "      <td>1</td>\n",
       "      <td>senior</td>\n",
       "      <td>Obese</td>\n",
       "      <td>Prediabetes</td>\n",
       "      <td>obesesenior</td>\n",
       "      <td>highsenior</td>\n",
       "      <td>Normal</td>\n",
       "      <td>18500.000</td>\n",
       "      <td>888.000</td>\n",
       "    </tr>\n",
       "    <tr>\n",
       "      <th>1</th>\n",
       "      <td>1</td>\n",
       "      <td>85.000</td>\n",
       "      <td>66.000</td>\n",
       "      <td>29.000</td>\n",
       "      <td>125.000</td>\n",
       "      <td>26.600</td>\n",
       "      <td>0.351</td>\n",
       "      <td>31</td>\n",
       "      <td>0</td>\n",
       "      <td>mature</td>\n",
       "      <td>Overweight</td>\n",
       "      <td>Normal</td>\n",
       "      <td>obesemature</td>\n",
       "      <td>normalmature</td>\n",
       "      <td>Normal</td>\n",
       "      <td>10625.000</td>\n",
       "      <td>85.000</td>\n",
       "    </tr>\n",
       "    <tr>\n",
       "      <th>2</th>\n",
       "      <td>8</td>\n",
       "      <td>183.000</td>\n",
       "      <td>64.000</td>\n",
       "      <td>29.000</td>\n",
       "      <td>125.000</td>\n",
       "      <td>23.300</td>\n",
       "      <td>0.672</td>\n",
       "      <td>32</td>\n",
       "      <td>1</td>\n",
       "      <td>mature</td>\n",
       "      <td>Healthy</td>\n",
       "      <td>Prediabetes</td>\n",
       "      <td>obesemature</td>\n",
       "      <td>highmature</td>\n",
       "      <td>Normal</td>\n",
       "      <td>22875.000</td>\n",
       "      <td>1464.000</td>\n",
       "    </tr>\n",
       "    <tr>\n",
       "      <th>3</th>\n",
       "      <td>1</td>\n",
       "      <td>89.000</td>\n",
       "      <td>66.000</td>\n",
       "      <td>23.000</td>\n",
       "      <td>94.000</td>\n",
       "      <td>28.100</td>\n",
       "      <td>0.167</td>\n",
       "      <td>21</td>\n",
       "      <td>0</td>\n",
       "      <td>mature</td>\n",
       "      <td>Overweight</td>\n",
       "      <td>Normal</td>\n",
       "      <td>obesemature</td>\n",
       "      <td>normalmature</td>\n",
       "      <td>Normal</td>\n",
       "      <td>8366.000</td>\n",
       "      <td>89.000</td>\n",
       "    </tr>\n",
       "    <tr>\n",
       "      <th>4</th>\n",
       "      <td>0</td>\n",
       "      <td>137.000</td>\n",
       "      <td>40.000</td>\n",
       "      <td>35.000</td>\n",
       "      <td>168.000</td>\n",
       "      <td>43.100</td>\n",
       "      <td>2.288</td>\n",
       "      <td>33</td>\n",
       "      <td>1</td>\n",
       "      <td>mature</td>\n",
       "      <td>Obese</td>\n",
       "      <td>Normal</td>\n",
       "      <td>obesemature</td>\n",
       "      <td>highmature</td>\n",
       "      <td>Abnormal</td>\n",
       "      <td>23016.000</td>\n",
       "      <td>0.000</td>\n",
       "    </tr>\n",
       "  </tbody>\n",
       "</table>\n",
       "</div>"
      ],
      "text/plain": [
       "   PREGNANCIES  GLUCOSE  BLOODPRESSURE  SKINTHICKNESS  INSULIN    BMI  \\\n",
       "0            6  148.000         72.000         35.000  125.000 33.600   \n",
       "1            1   85.000         66.000         29.000  125.000 26.600   \n",
       "2            8  183.000         64.000         29.000  125.000 23.300   \n",
       "3            1   89.000         66.000         23.000   94.000 28.100   \n",
       "4            0  137.000         40.000         35.000  168.000 43.100   \n",
       "\n",
       "   DIABETESPEDIGREEFUNCTION  AGE  OUTCOME NEW_AGE_CAT     NEW_BMI  \\\n",
       "0                     0.627   50        1      senior       Obese   \n",
       "1                     0.351   31        0      mature  Overweight   \n",
       "2                     0.672   32        1      mature     Healthy   \n",
       "3                     0.167   21        0      mature  Overweight   \n",
       "4                     2.288   33        1      mature       Obese   \n",
       "\n",
       "   NEW_GLUCOSE NEW_AGE_BMI_NOM NEW_AGE_GLUCOSE_NOM NEW_INSULIN_SCORE  \\\n",
       "0  Prediabetes     obesesenior          highsenior            Normal   \n",
       "1       Normal     obesemature        normalmature            Normal   \n",
       "2  Prediabetes     obesemature          highmature            Normal   \n",
       "3       Normal     obesemature        normalmature            Normal   \n",
       "4       Normal     obesemature          highmature          Abnormal   \n",
       "\n",
       "   NEW_GLUCOSE*INSULIN  NEW_GLUCOSE*PREGNANCIES  \n",
       "0            18500.000                  888.000  \n",
       "1            10625.000                   85.000  \n",
       "2            22875.000                 1464.000  \n",
       "3             8366.000                   89.000  \n",
       "4            23016.000                    0.000  "
      ]
     },
     "execution_count": 31,
     "metadata": {},
     "output_type": "execute_result"
    }
   ],
   "source": [
    "df.columns = [col.upper() for col in df.columns]\n",
    "\n",
    "df.head()"
   ]
  },
  {
   "cell_type": "markdown",
   "id": "0f2181bd",
   "metadata": {
    "papermill": {
     "duration": 0.023486,
     "end_time": "2023-08-30T17:01:31.775193",
     "exception": false,
     "start_time": "2023-08-30T17:01:31.751707",
     "status": "completed"
    },
    "tags": []
   },
   "source": [
    "**ENCODING**\n",
    "\n",
    "Separation of variables by type"
   ]
  },
  {
   "cell_type": "code",
   "execution_count": 32,
   "id": "a2b74e28",
   "metadata": {
    "execution": {
     "iopub.execute_input": "2023-08-30T17:01:31.825406Z",
     "iopub.status.busy": "2023-08-30T17:01:31.824975Z",
     "iopub.status.idle": "2023-08-30T17:01:31.838078Z",
     "shell.execute_reply": "2023-08-30T17:01:31.836677Z"
    },
    "papermill": {
     "duration": 0.040219,
     "end_time": "2023-08-30T17:01:31.840653",
     "exception": false,
     "start_time": "2023-08-30T17:01:31.800434",
     "status": "completed"
    },
    "tags": []
   },
   "outputs": [
    {
     "name": "stdout",
     "output_type": "stream",
     "text": [
      "Observations: 768\n",
      "Variables: 17\n",
      "cat_cols: 7\n",
      "num_cols: 10\n",
      "cat_but_car: 0\n",
      "num_but_cat: 3\n"
     ]
    }
   ],
   "source": [
    "cat_cols, num_cols, cat_but_car = grab_col_names(df)\n"
   ]
  },
  {
   "cell_type": "markdown",
   "id": "f2b56b59",
   "metadata": {
    "papermill": {
     "duration": 0.022892,
     "end_time": "2023-08-30T17:01:31.887964",
     "exception": false,
     "start_time": "2023-08-30T17:01:31.865072",
     "status": "completed"
    },
    "tags": []
   },
   "source": [
    "**LABEL ENCODING**"
   ]
  },
  {
   "cell_type": "code",
   "execution_count": 33,
   "id": "9c3ed0fa",
   "metadata": {
    "execution": {
     "iopub.execute_input": "2023-08-30T17:01:31.936874Z",
     "iopub.status.busy": "2023-08-30T17:01:31.936441Z",
     "iopub.status.idle": "2023-08-30T17:01:31.945305Z",
     "shell.execute_reply": "2023-08-30T17:01:31.944150Z"
    },
    "papermill": {
     "duration": 0.037463,
     "end_time": "2023-08-30T17:01:31.948414",
     "exception": false,
     "start_time": "2023-08-30T17:01:31.910951",
     "status": "completed"
    },
    "tags": []
   },
   "outputs": [],
   "source": [
    "def label_encoder(dataframe, binary_col):\n",
    "    labelencoder = LabelEncoder()\n",
    "    dataframe[binary_col] = labelencoder.fit_transform(dataframe[binary_col])\n",
    "    return dataframe\n",
    "\n",
    "binary_cols = [col for col in df.columns if df[col].dtypes == \"O\" and df[col].nunique() == 2]\n",
    "binary_cols\n",
    "\n",
    "for col in binary_cols:\n",
    "    df = label_encoder(df, col)"
   ]
  },
  {
   "cell_type": "markdown",
   "id": "a985811c",
   "metadata": {
    "papermill": {
     "duration": 0.023651,
     "end_time": "2023-08-30T17:01:31.995488",
     "exception": false,
     "start_time": "2023-08-30T17:01:31.971837",
     "status": "completed"
    },
    "tags": []
   },
   "source": [
    "**One-Hot Encoding**\n",
    "\n",
    "Update the cat_cols list"
   ]
  },
  {
   "cell_type": "code",
   "execution_count": 34,
   "id": "70740625",
   "metadata": {
    "execution": {
     "iopub.execute_input": "2023-08-30T17:01:32.044402Z",
     "iopub.status.busy": "2023-08-30T17:01:32.043980Z",
     "iopub.status.idle": "2023-08-30T17:01:32.051388Z",
     "shell.execute_reply": "2023-08-30T17:01:32.050054Z"
    },
    "papermill": {
     "duration": 0.035351,
     "end_time": "2023-08-30T17:01:32.053999",
     "exception": false,
     "start_time": "2023-08-30T17:01:32.018648",
     "status": "completed"
    },
    "tags": []
   },
   "outputs": [
    {
     "data": {
      "text/plain": [
       "['NEW_AGE_BMI_NOM', 'NEW_AGE_GLUCOSE_NOM', 'NEW_BMI', 'NEW_GLUCOSE']"
      ]
     },
     "execution_count": 34,
     "metadata": {},
     "output_type": "execute_result"
    }
   ],
   "source": [
    "cat_cols = [col for col in cat_cols if col not in binary_cols and col not in [\"OUTCOME\"]]\n",
    "cat_cols\n"
   ]
  },
  {
   "cell_type": "code",
   "execution_count": 35,
   "id": "ae709931",
   "metadata": {
    "execution": {
     "iopub.execute_input": "2023-08-30T17:01:32.104700Z",
     "iopub.status.busy": "2023-08-30T17:01:32.103748Z",
     "iopub.status.idle": "2023-08-30T17:01:32.130332Z",
     "shell.execute_reply": "2023-08-30T17:01:32.129047Z"
    },
    "papermill": {
     "duration": 0.054189,
     "end_time": "2023-08-30T17:01:32.133217",
     "exception": false,
     "start_time": "2023-08-30T17:01:32.079028",
     "status": "completed"
    },
    "tags": []
   },
   "outputs": [
    {
     "data": {
      "text/html": [
       "<div>\n",
       "<style scoped>\n",
       "    .dataframe tbody tr th:only-of-type {\n",
       "        vertical-align: middle;\n",
       "    }\n",
       "\n",
       "    .dataframe tbody tr th {\n",
       "        vertical-align: top;\n",
       "    }\n",
       "\n",
       "    .dataframe thead th {\n",
       "        text-align: right;\n",
       "    }\n",
       "</style>\n",
       "<table border=\"1\" class=\"dataframe\">\n",
       "  <thead>\n",
       "    <tr style=\"text-align: right;\">\n",
       "      <th></th>\n",
       "      <th>PREGNANCIES</th>\n",
       "      <th>GLUCOSE</th>\n",
       "      <th>BLOODPRESSURE</th>\n",
       "      <th>SKINTHICKNESS</th>\n",
       "      <th>INSULIN</th>\n",
       "      <th>BMI</th>\n",
       "      <th>DIABETESPEDIGREEFUNCTION</th>\n",
       "      <th>AGE</th>\n",
       "      <th>OUTCOME</th>\n",
       "      <th>NEW_AGE_CAT</th>\n",
       "      <th>NEW_INSULIN_SCORE</th>\n",
       "      <th>NEW_GLUCOSE*INSULIN</th>\n",
       "      <th>NEW_GLUCOSE*PREGNANCIES</th>\n",
       "      <th>NEW_AGE_BMI_NOM_obesesenior</th>\n",
       "      <th>NEW_AGE_BMI_NOM_underweightmature</th>\n",
       "      <th>NEW_AGE_GLUCOSE_NOM_hiddensenior</th>\n",
       "      <th>NEW_AGE_GLUCOSE_NOM_highmature</th>\n",
       "      <th>NEW_AGE_GLUCOSE_NOM_highsenior</th>\n",
       "      <th>NEW_AGE_GLUCOSE_NOM_lowmature</th>\n",
       "      <th>NEW_AGE_GLUCOSE_NOM_lowsenior</th>\n",
       "      <th>NEW_AGE_GLUCOSE_NOM_normalmature</th>\n",
       "      <th>NEW_AGE_GLUCOSE_NOM_normalsenior</th>\n",
       "      <th>NEW_BMI_Healthy</th>\n",
       "      <th>NEW_BMI_Overweight</th>\n",
       "      <th>NEW_BMI_Obese</th>\n",
       "      <th>NEW_GLUCOSE_Prediabetes</th>\n",
       "      <th>NEW_GLUCOSE_Diabetes</th>\n",
       "    </tr>\n",
       "  </thead>\n",
       "  <tbody>\n",
       "    <tr>\n",
       "      <th>0</th>\n",
       "      <td>6</td>\n",
       "      <td>148.000</td>\n",
       "      <td>72.000</td>\n",
       "      <td>35.000</td>\n",
       "      <td>125.000</td>\n",
       "      <td>33.600</td>\n",
       "      <td>0.627</td>\n",
       "      <td>50</td>\n",
       "      <td>1</td>\n",
       "      <td>1</td>\n",
       "      <td>1</td>\n",
       "      <td>18500.000</td>\n",
       "      <td>888.000</td>\n",
       "      <td>1</td>\n",
       "      <td>0</td>\n",
       "      <td>0</td>\n",
       "      <td>0</td>\n",
       "      <td>1</td>\n",
       "      <td>0</td>\n",
       "      <td>0</td>\n",
       "      <td>0</td>\n",
       "      <td>0</td>\n",
       "      <td>0</td>\n",
       "      <td>0</td>\n",
       "      <td>1</td>\n",
       "      <td>1</td>\n",
       "      <td>0</td>\n",
       "    </tr>\n",
       "    <tr>\n",
       "      <th>1</th>\n",
       "      <td>1</td>\n",
       "      <td>85.000</td>\n",
       "      <td>66.000</td>\n",
       "      <td>29.000</td>\n",
       "      <td>125.000</td>\n",
       "      <td>26.600</td>\n",
       "      <td>0.351</td>\n",
       "      <td>31</td>\n",
       "      <td>0</td>\n",
       "      <td>0</td>\n",
       "      <td>1</td>\n",
       "      <td>10625.000</td>\n",
       "      <td>85.000</td>\n",
       "      <td>0</td>\n",
       "      <td>0</td>\n",
       "      <td>0</td>\n",
       "      <td>0</td>\n",
       "      <td>0</td>\n",
       "      <td>0</td>\n",
       "      <td>0</td>\n",
       "      <td>1</td>\n",
       "      <td>0</td>\n",
       "      <td>0</td>\n",
       "      <td>1</td>\n",
       "      <td>0</td>\n",
       "      <td>0</td>\n",
       "      <td>0</td>\n",
       "    </tr>\n",
       "    <tr>\n",
       "      <th>2</th>\n",
       "      <td>8</td>\n",
       "      <td>183.000</td>\n",
       "      <td>64.000</td>\n",
       "      <td>29.000</td>\n",
       "      <td>125.000</td>\n",
       "      <td>23.300</td>\n",
       "      <td>0.672</td>\n",
       "      <td>32</td>\n",
       "      <td>1</td>\n",
       "      <td>0</td>\n",
       "      <td>1</td>\n",
       "      <td>22875.000</td>\n",
       "      <td>1464.000</td>\n",
       "      <td>0</td>\n",
       "      <td>0</td>\n",
       "      <td>0</td>\n",
       "      <td>1</td>\n",
       "      <td>0</td>\n",
       "      <td>0</td>\n",
       "      <td>0</td>\n",
       "      <td>0</td>\n",
       "      <td>0</td>\n",
       "      <td>1</td>\n",
       "      <td>0</td>\n",
       "      <td>0</td>\n",
       "      <td>1</td>\n",
       "      <td>0</td>\n",
       "    </tr>\n",
       "    <tr>\n",
       "      <th>3</th>\n",
       "      <td>1</td>\n",
       "      <td>89.000</td>\n",
       "      <td>66.000</td>\n",
       "      <td>23.000</td>\n",
       "      <td>94.000</td>\n",
       "      <td>28.100</td>\n",
       "      <td>0.167</td>\n",
       "      <td>21</td>\n",
       "      <td>0</td>\n",
       "      <td>0</td>\n",
       "      <td>1</td>\n",
       "      <td>8366.000</td>\n",
       "      <td>89.000</td>\n",
       "      <td>0</td>\n",
       "      <td>0</td>\n",
       "      <td>0</td>\n",
       "      <td>0</td>\n",
       "      <td>0</td>\n",
       "      <td>0</td>\n",
       "      <td>0</td>\n",
       "      <td>1</td>\n",
       "      <td>0</td>\n",
       "      <td>0</td>\n",
       "      <td>1</td>\n",
       "      <td>0</td>\n",
       "      <td>0</td>\n",
       "      <td>0</td>\n",
       "    </tr>\n",
       "    <tr>\n",
       "      <th>4</th>\n",
       "      <td>0</td>\n",
       "      <td>137.000</td>\n",
       "      <td>40.000</td>\n",
       "      <td>35.000</td>\n",
       "      <td>168.000</td>\n",
       "      <td>43.100</td>\n",
       "      <td>2.288</td>\n",
       "      <td>33</td>\n",
       "      <td>1</td>\n",
       "      <td>0</td>\n",
       "      <td>0</td>\n",
       "      <td>23016.000</td>\n",
       "      <td>0.000</td>\n",
       "      <td>0</td>\n",
       "      <td>0</td>\n",
       "      <td>0</td>\n",
       "      <td>1</td>\n",
       "      <td>0</td>\n",
       "      <td>0</td>\n",
       "      <td>0</td>\n",
       "      <td>0</td>\n",
       "      <td>0</td>\n",
       "      <td>0</td>\n",
       "      <td>0</td>\n",
       "      <td>1</td>\n",
       "      <td>0</td>\n",
       "      <td>0</td>\n",
       "    </tr>\n",
       "  </tbody>\n",
       "</table>\n",
       "</div>"
      ],
      "text/plain": [
       "   PREGNANCIES  GLUCOSE  BLOODPRESSURE  SKINTHICKNESS  INSULIN    BMI  \\\n",
       "0            6  148.000         72.000         35.000  125.000 33.600   \n",
       "1            1   85.000         66.000         29.000  125.000 26.600   \n",
       "2            8  183.000         64.000         29.000  125.000 23.300   \n",
       "3            1   89.000         66.000         23.000   94.000 28.100   \n",
       "4            0  137.000         40.000         35.000  168.000 43.100   \n",
       "\n",
       "   DIABETESPEDIGREEFUNCTION  AGE  OUTCOME  NEW_AGE_CAT  NEW_INSULIN_SCORE  \\\n",
       "0                     0.627   50        1            1                  1   \n",
       "1                     0.351   31        0            0                  1   \n",
       "2                     0.672   32        1            0                  1   \n",
       "3                     0.167   21        0            0                  1   \n",
       "4                     2.288   33        1            0                  0   \n",
       "\n",
       "   NEW_GLUCOSE*INSULIN  NEW_GLUCOSE*PREGNANCIES  NEW_AGE_BMI_NOM_obesesenior  \\\n",
       "0            18500.000                  888.000                            1   \n",
       "1            10625.000                   85.000                            0   \n",
       "2            22875.000                 1464.000                            0   \n",
       "3             8366.000                   89.000                            0   \n",
       "4            23016.000                    0.000                            0   \n",
       "\n",
       "   NEW_AGE_BMI_NOM_underweightmature  NEW_AGE_GLUCOSE_NOM_hiddensenior  \\\n",
       "0                                  0                                 0   \n",
       "1                                  0                                 0   \n",
       "2                                  0                                 0   \n",
       "3                                  0                                 0   \n",
       "4                                  0                                 0   \n",
       "\n",
       "   NEW_AGE_GLUCOSE_NOM_highmature  NEW_AGE_GLUCOSE_NOM_highsenior  \\\n",
       "0                               0                               1   \n",
       "1                               0                               0   \n",
       "2                               1                               0   \n",
       "3                               0                               0   \n",
       "4                               1                               0   \n",
       "\n",
       "   NEW_AGE_GLUCOSE_NOM_lowmature  NEW_AGE_GLUCOSE_NOM_lowsenior  \\\n",
       "0                              0                              0   \n",
       "1                              0                              0   \n",
       "2                              0                              0   \n",
       "3                              0                              0   \n",
       "4                              0                              0   \n",
       "\n",
       "   NEW_AGE_GLUCOSE_NOM_normalmature  NEW_AGE_GLUCOSE_NOM_normalsenior  \\\n",
       "0                                 0                                 0   \n",
       "1                                 1                                 0   \n",
       "2                                 0                                 0   \n",
       "3                                 1                                 0   \n",
       "4                                 0                                 0   \n",
       "\n",
       "   NEW_BMI_Healthy  NEW_BMI_Overweight  NEW_BMI_Obese  \\\n",
       "0                0                   0              1   \n",
       "1                0                   1              0   \n",
       "2                1                   0              0   \n",
       "3                0                   1              0   \n",
       "4                0                   0              1   \n",
       "\n",
       "   NEW_GLUCOSE_Prediabetes  NEW_GLUCOSE_Diabetes  \n",
       "0                        1                     0  \n",
       "1                        0                     0  \n",
       "2                        1                     0  \n",
       "3                        0                     0  \n",
       "4                        0                     0  "
      ]
     },
     "execution_count": 35,
     "metadata": {},
     "output_type": "execute_result"
    }
   ],
   "source": [
    "def one_hot_encoder(dataframe, categorical_cols, drop_first=False):\n",
    "    dataframe = pd.get_dummies(dataframe, columns=categorical_cols, drop_first=drop_first)\n",
    "    return dataframe\n",
    "\n",
    "df = one_hot_encoder(df, cat_cols, drop_first=True)\n",
    "\n",
    "df.head()"
   ]
  },
  {
   "cell_type": "markdown",
   "id": "03455865",
   "metadata": {
    "papermill": {
     "duration": 0.023271,
     "end_time": "2023-08-30T17:01:32.181327",
     "exception": false,
     "start_time": "2023-08-30T17:01:32.158056",
     "status": "completed"
    },
    "tags": []
   },
   "source": [
    "**STANDARDISATION**"
   ]
  },
  {
   "cell_type": "code",
   "execution_count": 36,
   "id": "f054be01",
   "metadata": {
    "execution": {
     "iopub.execute_input": "2023-08-30T17:01:32.230063Z",
     "iopub.status.busy": "2023-08-30T17:01:32.229664Z",
     "iopub.status.idle": "2023-08-30T17:01:32.236458Z",
     "shell.execute_reply": "2023-08-30T17:01:32.235316Z"
    },
    "papermill": {
     "duration": 0.034102,
     "end_time": "2023-08-30T17:01:32.238776",
     "exception": false,
     "start_time": "2023-08-30T17:01:32.204674",
     "status": "completed"
    },
    "tags": []
   },
   "outputs": [
    {
     "data": {
      "text/plain": [
       "['PREGNANCIES',\n",
       " 'GLUCOSE',\n",
       " 'BLOODPRESSURE',\n",
       " 'SKINTHICKNESS',\n",
       " 'INSULIN',\n",
       " 'BMI',\n",
       " 'DIABETESPEDIGREEFUNCTION',\n",
       " 'AGE',\n",
       " 'NEW_GLUCOSE*INSULIN',\n",
       " 'NEW_GLUCOSE*PREGNANCIES']"
      ]
     },
     "execution_count": 36,
     "metadata": {},
     "output_type": "execute_result"
    }
   ],
   "source": [
    "num_cols"
   ]
  },
  {
   "cell_type": "code",
   "execution_count": 37,
   "id": "85d2e99e",
   "metadata": {
    "execution": {
     "iopub.execute_input": "2023-08-30T17:01:32.290857Z",
     "iopub.status.busy": "2023-08-30T17:01:32.289777Z",
     "iopub.status.idle": "2023-08-30T17:01:32.317526Z",
     "shell.execute_reply": "2023-08-30T17:01:32.316375Z"
    },
    "papermill": {
     "duration": 0.056805,
     "end_time": "2023-08-30T17:01:32.319995",
     "exception": false,
     "start_time": "2023-08-30T17:01:32.263190",
     "status": "completed"
    },
    "tags": []
   },
   "outputs": [
    {
     "data": {
      "text/html": [
       "<div>\n",
       "<style scoped>\n",
       "    .dataframe tbody tr th:only-of-type {\n",
       "        vertical-align: middle;\n",
       "    }\n",
       "\n",
       "    .dataframe tbody tr th {\n",
       "        vertical-align: top;\n",
       "    }\n",
       "\n",
       "    .dataframe thead th {\n",
       "        text-align: right;\n",
       "    }\n",
       "</style>\n",
       "<table border=\"1\" class=\"dataframe\">\n",
       "  <thead>\n",
       "    <tr style=\"text-align: right;\">\n",
       "      <th></th>\n",
       "      <th>PREGNANCIES</th>\n",
       "      <th>GLUCOSE</th>\n",
       "      <th>BLOODPRESSURE</th>\n",
       "      <th>SKINTHICKNESS</th>\n",
       "      <th>INSULIN</th>\n",
       "      <th>BMI</th>\n",
       "      <th>DIABETESPEDIGREEFUNCTION</th>\n",
       "      <th>AGE</th>\n",
       "      <th>OUTCOME</th>\n",
       "      <th>NEW_AGE_CAT</th>\n",
       "      <th>NEW_INSULIN_SCORE</th>\n",
       "      <th>NEW_GLUCOSE*INSULIN</th>\n",
       "      <th>NEW_GLUCOSE*PREGNANCIES</th>\n",
       "      <th>NEW_AGE_BMI_NOM_obesesenior</th>\n",
       "      <th>NEW_AGE_BMI_NOM_underweightmature</th>\n",
       "      <th>NEW_AGE_GLUCOSE_NOM_hiddensenior</th>\n",
       "      <th>NEW_AGE_GLUCOSE_NOM_highmature</th>\n",
       "      <th>NEW_AGE_GLUCOSE_NOM_highsenior</th>\n",
       "      <th>NEW_AGE_GLUCOSE_NOM_lowmature</th>\n",
       "      <th>NEW_AGE_GLUCOSE_NOM_lowsenior</th>\n",
       "      <th>NEW_AGE_GLUCOSE_NOM_normalmature</th>\n",
       "      <th>NEW_AGE_GLUCOSE_NOM_normalsenior</th>\n",
       "      <th>NEW_BMI_Healthy</th>\n",
       "      <th>NEW_BMI_Overweight</th>\n",
       "      <th>NEW_BMI_Obese</th>\n",
       "      <th>NEW_GLUCOSE_Prediabetes</th>\n",
       "      <th>NEW_GLUCOSE_Diabetes</th>\n",
       "    </tr>\n",
       "  </thead>\n",
       "  <tbody>\n",
       "    <tr>\n",
       "      <th>0</th>\n",
       "      <td>0.640</td>\n",
       "      <td>0.866</td>\n",
       "      <td>-0.032</td>\n",
       "      <td>0.680</td>\n",
       "      <td>-0.183</td>\n",
       "      <td>0.167</td>\n",
       "      <td>0.468</td>\n",
       "      <td>1.426</td>\n",
       "      <td>1</td>\n",
       "      <td>1</td>\n",
       "      <td>1</td>\n",
       "      <td>0.024</td>\n",
       "      <td>0.882</td>\n",
       "      <td>1</td>\n",
       "      <td>0</td>\n",
       "      <td>0</td>\n",
       "      <td>0</td>\n",
       "      <td>1</td>\n",
       "      <td>0</td>\n",
       "      <td>0</td>\n",
       "      <td>0</td>\n",
       "      <td>0</td>\n",
       "      <td>0</td>\n",
       "      <td>0</td>\n",
       "      <td>1</td>\n",
       "      <td>1</td>\n",
       "      <td>0</td>\n",
       "    </tr>\n",
       "    <tr>\n",
       "      <th>1</th>\n",
       "      <td>-0.845</td>\n",
       "      <td>-1.205</td>\n",
       "      <td>-0.528</td>\n",
       "      <td>-0.011</td>\n",
       "      <td>-0.183</td>\n",
       "      <td>-0.852</td>\n",
       "      <td>-0.365</td>\n",
       "      <td>-0.191</td>\n",
       "      <td>0</td>\n",
       "      <td>0</td>\n",
       "      <td>1</td>\n",
       "      <td>-0.503</td>\n",
       "      <td>-0.858</td>\n",
       "      <td>0</td>\n",
       "      <td>0</td>\n",
       "      <td>0</td>\n",
       "      <td>0</td>\n",
       "      <td>0</td>\n",
       "      <td>0</td>\n",
       "      <td>0</td>\n",
       "      <td>1</td>\n",
       "      <td>0</td>\n",
       "      <td>0</td>\n",
       "      <td>1</td>\n",
       "      <td>0</td>\n",
       "      <td>0</td>\n",
       "      <td>0</td>\n",
       "    </tr>\n",
       "    <tr>\n",
       "      <th>2</th>\n",
       "      <td>1.234</td>\n",
       "      <td>2.017</td>\n",
       "      <td>-0.694</td>\n",
       "      <td>-0.011</td>\n",
       "      <td>-0.183</td>\n",
       "      <td>-1.333</td>\n",
       "      <td>0.604</td>\n",
       "      <td>-0.106</td>\n",
       "      <td>1</td>\n",
       "      <td>0</td>\n",
       "      <td>1</td>\n",
       "      <td>0.317</td>\n",
       "      <td>2.129</td>\n",
       "      <td>0</td>\n",
       "      <td>0</td>\n",
       "      <td>0</td>\n",
       "      <td>1</td>\n",
       "      <td>0</td>\n",
       "      <td>0</td>\n",
       "      <td>0</td>\n",
       "      <td>0</td>\n",
       "      <td>0</td>\n",
       "      <td>1</td>\n",
       "      <td>0</td>\n",
       "      <td>0</td>\n",
       "      <td>1</td>\n",
       "      <td>0</td>\n",
       "    </tr>\n",
       "    <tr>\n",
       "      <th>3</th>\n",
       "      <td>-0.845</td>\n",
       "      <td>-1.074</td>\n",
       "      <td>-0.528</td>\n",
       "      <td>-0.702</td>\n",
       "      <td>-0.553</td>\n",
       "      <td>-0.634</td>\n",
       "      <td>-0.921</td>\n",
       "      <td>-1.042</td>\n",
       "      <td>0</td>\n",
       "      <td>0</td>\n",
       "      <td>1</td>\n",
       "      <td>-0.654</td>\n",
       "      <td>-0.849</td>\n",
       "      <td>0</td>\n",
       "      <td>0</td>\n",
       "      <td>0</td>\n",
       "      <td>0</td>\n",
       "      <td>0</td>\n",
       "      <td>0</td>\n",
       "      <td>0</td>\n",
       "      <td>1</td>\n",
       "      <td>0</td>\n",
       "      <td>0</td>\n",
       "      <td>1</td>\n",
       "      <td>0</td>\n",
       "      <td>0</td>\n",
       "      <td>0</td>\n",
       "    </tr>\n",
       "    <tr>\n",
       "      <th>4</th>\n",
       "      <td>-1.142</td>\n",
       "      <td>0.504</td>\n",
       "      <td>-2.679</td>\n",
       "      <td>0.680</td>\n",
       "      <td>0.331</td>\n",
       "      <td>1.549</td>\n",
       "      <td>5.485</td>\n",
       "      <td>-0.020</td>\n",
       "      <td>1</td>\n",
       "      <td>0</td>\n",
       "      <td>0</td>\n",
       "      <td>0.326</td>\n",
       "      <td>-1.042</td>\n",
       "      <td>0</td>\n",
       "      <td>0</td>\n",
       "      <td>0</td>\n",
       "      <td>1</td>\n",
       "      <td>0</td>\n",
       "      <td>0</td>\n",
       "      <td>0</td>\n",
       "      <td>0</td>\n",
       "      <td>0</td>\n",
       "      <td>0</td>\n",
       "      <td>0</td>\n",
       "      <td>1</td>\n",
       "      <td>0</td>\n",
       "      <td>0</td>\n",
       "    </tr>\n",
       "  </tbody>\n",
       "</table>\n",
       "</div>"
      ],
      "text/plain": [
       "   PREGNANCIES  GLUCOSE  BLOODPRESSURE  SKINTHICKNESS  INSULIN    BMI  \\\n",
       "0        0.640    0.866         -0.032          0.680   -0.183  0.167   \n",
       "1       -0.845   -1.205         -0.528         -0.011   -0.183 -0.852   \n",
       "2        1.234    2.017         -0.694         -0.011   -0.183 -1.333   \n",
       "3       -0.845   -1.074         -0.528         -0.702   -0.553 -0.634   \n",
       "4       -1.142    0.504         -2.679          0.680    0.331  1.549   \n",
       "\n",
       "   DIABETESPEDIGREEFUNCTION    AGE  OUTCOME  NEW_AGE_CAT  NEW_INSULIN_SCORE  \\\n",
       "0                     0.468  1.426        1            1                  1   \n",
       "1                    -0.365 -0.191        0            0                  1   \n",
       "2                     0.604 -0.106        1            0                  1   \n",
       "3                    -0.921 -1.042        0            0                  1   \n",
       "4                     5.485 -0.020        1            0                  0   \n",
       "\n",
       "   NEW_GLUCOSE*INSULIN  NEW_GLUCOSE*PREGNANCIES  NEW_AGE_BMI_NOM_obesesenior  \\\n",
       "0                0.024                    0.882                            1   \n",
       "1               -0.503                   -0.858                            0   \n",
       "2                0.317                    2.129                            0   \n",
       "3               -0.654                   -0.849                            0   \n",
       "4                0.326                   -1.042                            0   \n",
       "\n",
       "   NEW_AGE_BMI_NOM_underweightmature  NEW_AGE_GLUCOSE_NOM_hiddensenior  \\\n",
       "0                                  0                                 0   \n",
       "1                                  0                                 0   \n",
       "2                                  0                                 0   \n",
       "3                                  0                                 0   \n",
       "4                                  0                                 0   \n",
       "\n",
       "   NEW_AGE_GLUCOSE_NOM_highmature  NEW_AGE_GLUCOSE_NOM_highsenior  \\\n",
       "0                               0                               1   \n",
       "1                               0                               0   \n",
       "2                               1                               0   \n",
       "3                               0                               0   \n",
       "4                               1                               0   \n",
       "\n",
       "   NEW_AGE_GLUCOSE_NOM_lowmature  NEW_AGE_GLUCOSE_NOM_lowsenior  \\\n",
       "0                              0                              0   \n",
       "1                              0                              0   \n",
       "2                              0                              0   \n",
       "3                              0                              0   \n",
       "4                              0                              0   \n",
       "\n",
       "   NEW_AGE_GLUCOSE_NOM_normalmature  NEW_AGE_GLUCOSE_NOM_normalsenior  \\\n",
       "0                                 0                                 0   \n",
       "1                                 1                                 0   \n",
       "2                                 0                                 0   \n",
       "3                                 1                                 0   \n",
       "4                                 0                                 0   \n",
       "\n",
       "   NEW_BMI_Healthy  NEW_BMI_Overweight  NEW_BMI_Obese  \\\n",
       "0                0                   0              1   \n",
       "1                0                   1              0   \n",
       "2                1                   0              0   \n",
       "3                0                   1              0   \n",
       "4                0                   0              1   \n",
       "\n",
       "   NEW_GLUCOSE_Prediabetes  NEW_GLUCOSE_Diabetes  \n",
       "0                        1                     0  \n",
       "1                        0                     0  \n",
       "2                        1                     0  \n",
       "3                        0                     0  \n",
       "4                        0                     0  "
      ]
     },
     "execution_count": 37,
     "metadata": {},
     "output_type": "execute_result"
    }
   ],
   "source": [
    "scaler = StandardScaler()\n",
    "df[num_cols] = scaler.fit_transform(df[num_cols])\n",
    "\n",
    "df.head()"
   ]
  },
  {
   "cell_type": "code",
   "execution_count": 38,
   "id": "06fb7c7c",
   "metadata": {
    "execution": {
     "iopub.execute_input": "2023-08-30T17:01:32.373703Z",
     "iopub.status.busy": "2023-08-30T17:01:32.372787Z",
     "iopub.status.idle": "2023-08-30T17:01:32.378944Z",
     "shell.execute_reply": "2023-08-30T17:01:32.377761Z"
    },
    "papermill": {
     "duration": 0.033952,
     "end_time": "2023-08-30T17:01:32.380932",
     "exception": false,
     "start_time": "2023-08-30T17:01:32.346980",
     "status": "completed"
    },
    "tags": []
   },
   "outputs": [
    {
     "data": {
      "text/plain": [
       "(768, 27)"
      ]
     },
     "execution_count": 38,
     "metadata": {},
     "output_type": "execute_result"
    }
   ],
   "source": [
    "df.shape"
   ]
  },
  {
   "cell_type": "markdown",
   "id": "88e54f05",
   "metadata": {
    "papermill": {
     "duration": 0.024089,
     "end_time": "2023-08-30T17:01:32.430344",
     "exception": false,
     "start_time": "2023-08-30T17:01:32.406255",
     "status": "completed"
    },
    "tags": []
   },
   "source": [
    "**MODELLING**"
   ]
  },
  {
   "cell_type": "code",
   "execution_count": 39,
   "id": "e4984084",
   "metadata": {
    "execution": {
     "iopub.execute_input": "2023-08-30T17:01:32.480964Z",
     "iopub.status.busy": "2023-08-30T17:01:32.480323Z",
     "iopub.status.idle": "2023-08-30T17:01:32.755861Z",
     "shell.execute_reply": "2023-08-30T17:01:32.754469Z"
    },
    "papermill": {
     "duration": 0.303833,
     "end_time": "2023-08-30T17:01:32.758454",
     "exception": false,
     "start_time": "2023-08-30T17:01:32.454621",
     "status": "completed"
    },
    "tags": []
   },
   "outputs": [
    {
     "name": "stdout",
     "output_type": "stream",
     "text": [
      "Accuracy: 0.79\n",
      "Recall: 0.711\n",
      "Precision: 0.67\n",
      "F1: 0.69\n",
      "Auc: 0.77\n"
     ]
    }
   ],
   "source": [
    "y = df[\"OUTCOME\"]\n",
    "X = df.drop(\"OUTCOME\", axis=1)\n",
    "X_train, X_test, y_train, y_test = train_test_split(X, y, test_size=0.30, random_state=17)\n",
    "\n",
    "rf_model = RandomForestClassifier(random_state=46).fit(X_train, y_train)\n",
    "y_pred = rf_model.predict(X_test)\n",
    "\n",
    "print(f\"Accuracy: {round(accuracy_score(y_pred, y_test), 2)}\")\n",
    "print(f\"Recall: {round(recall_score(y_pred,y_test),3)}\")\n",
    "print(f\"Precision: {round(precision_score(y_pred,y_test), 2)}\")\n",
    "print(f\"F1: {round(f1_score(y_pred,y_test), 2)}\")\n",
    "print(f\"Auc: {round(roc_auc_score(y_pred,y_test), 2)}\")"
   ]
  },
  {
   "cell_type": "markdown",
   "id": "04e766e8",
   "metadata": {
    "papermill": {
     "duration": 0.024662,
     "end_time": "2023-08-30T17:01:32.807993",
     "exception": false,
     "start_time": "2023-08-30T17:01:32.783331",
     "status": "completed"
    },
    "tags": []
   },
   "source": [
    "# **Model**\n",
    "\n",
    "**Accuracy: 0.79**\n",
    "\n",
    "**Recall: 0.711**\n",
    "\n",
    "**Precision: 0.67**\n",
    "\n",
    "**F1: 0.69**\n",
    "\n",
    "**Auc: 0.77**\n",
    "\n",
    "\n",
    "# **Base Model**\n",
    "\n",
    "**Accuracy: 0.77**\n",
    "\n",
    "**Recall: 0.706**\n",
    "\n",
    "**Precision: 0.59**\n",
    "\n",
    "**F1: 0.64**\n",
    "\n",
    "**Auc: 0.75**"
   ]
  },
  {
   "cell_type": "markdown",
   "id": "7e77fbd6",
   "metadata": {
    "papermill": {
     "duration": 0.025283,
     "end_time": "2023-08-30T17:01:32.858415",
     "exception": false,
     "start_time": "2023-08-30T17:01:32.833132",
     "status": "completed"
    },
    "tags": []
   },
   "source": [
    "**FEATURE IMPORTANCE**"
   ]
  },
  {
   "cell_type": "code",
   "execution_count": 40,
   "id": "2d9d58bd",
   "metadata": {
    "execution": {
     "iopub.execute_input": "2023-08-30T17:01:32.910309Z",
     "iopub.status.busy": "2023-08-30T17:01:32.909650Z",
     "iopub.status.idle": "2023-08-30T17:01:33.676474Z",
     "shell.execute_reply": "2023-08-30T17:01:33.675433Z"
    },
    "papermill": {
     "duration": 0.79533,
     "end_time": "2023-08-30T17:01:33.679040",
     "exception": false,
     "start_time": "2023-08-30T17:01:32.883710",
     "status": "completed"
    },
    "tags": []
   },
   "outputs": [
    {
     "name": "stdout",
     "output_type": "stream",
     "text": [
      "    Value                            Feature\n",
      "1   0.138                            GLUCOSE\n",
      "10  0.131                NEW_GLUCOSE*INSULIN\n",
      "5   0.099                                BMI\n",
      "11  0.098            NEW_GLUCOSE*PREGNANCIES\n",
      "7   0.097                                AGE\n",
      "..    ...                                ...\n",
      "20  0.001   NEW_AGE_GLUCOSE_NOM_normalsenior\n",
      "17  0.000      NEW_AGE_GLUCOSE_NOM_lowmature\n",
      "13  0.000  NEW_AGE_BMI_NOM_underweightmature\n",
      "18  0.000      NEW_AGE_GLUCOSE_NOM_lowsenior\n",
      "25  0.000               NEW_GLUCOSE_Diabetes\n",
      "\n",
      "[26 rows x 2 columns]\n"
     ]
    },
    {
     "data": {
      "image/png": "[encoded data removed]",
      "text/plain": [
       "<Figure size 1000x1000 with 1 Axes>"
      ]
     },
     "metadata": {},
     "output_type": "display_data"
    }
   ],
   "source": [
    "def plot_importance(model, features, num=len(X), save=False):\n",
    "    feature_imp = pd.DataFrame({'Value': model.feature_importances_, 'Feature': features.columns})\n",
    "    print(feature_imp.sort_values(\"Value\",ascending=False))\n",
    "    plt.figure(figsize=(10, 10))\n",
    "    sns.set(font_scale=1)\n",
    "    sns.barplot(x=\"Value\", y=\"Feature\", data=feature_imp.sort_values(by=\"Value\",\n",
    "                                                                     ascending=False)[0:num])\n",
    "    plt.title('Features')\n",
    "    plt.tight_layout()\n",
    "    plt.show()\n",
    "    if save:\n",
    "        plt.savefig('importances.png')\n",
    "\n",
    "plot_importance(rf_model, X)"
   ]
  },
  {
   "cell_type": "markdown",
   "id": "01ff0e6d",
   "metadata": {
    "papermill": {
     "duration": 0.026503,
     "end_time": "2023-08-30T17:01:33.732050",
     "exception": false,
     "start_time": "2023-08-30T17:01:33.705547",
     "status": "completed"
    },
    "tags": []
   },
   "source": []
  }
 ],
 "kernelspec": {
  "display_name": "Python 3",
  "language": "python",
  "name": "python3"
 },
 "language_info": {
  "codemirror_mode": {
   "name": "ipython",
   "version": 3
  },
  "file_extension": ".py",
  "mimetype": "text/x-python",
  "name": "python",
  "nbconvert_exporter": "python",
  "pygments_lexer": "ipython3",
  "version": "3.6.4"
 },
 "metadata": {
  "kernelspec": {
   "display_name": "Python 3",
   "language": "python",
   "name": "python3"
  },
  "language_info": {
   "codemirror_mode": {
    "name": "ipython",
    "version": 3
   },
   "file_extension": ".py",
   "mimetype": "text/x-python",
   "name": "python",
   "nbconvert_exporter": "python",
   "pygments_lexer": "ipython3",
   "version": "3.10.12"
  },
  "papermill": {
   "default_parameters": {},
   "duration": 24.715015,
   "end_time": "2023-08-30T17:01:34.881902",
   "environment_variables": {},
   "exception": null,
   "input_path": "__notebook__.ipynb",
   "output_path": "__notebook__.ipynb",
   "parameters": {},
   "start_time": "2023-08-30T17:01:10.166887",
   "version": "2.4.0"
  }
 },
 "nbformat": 4,
 "nbformat_minor": 5
}
